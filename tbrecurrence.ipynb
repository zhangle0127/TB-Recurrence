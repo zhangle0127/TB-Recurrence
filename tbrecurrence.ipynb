{
 "cells": [
  {
   "cell_type": "code",
   "execution_count": 1,
   "metadata": {
    "collapsed": false,
    "scrolled": false
   },
   "outputs": [
    {
     "name": "stderr",
     "output_type": "stream",
     "text": [
      "/Users/zhangle/anaconda3/lib/python3.6/site-packages/sklearn/cross_validation.py:44: DeprecationWarning: This module was deprecated in version 0.18 in favor of the model_selection module into which all the refactored classes and functions are moved. Also note that the interface of the new CV iterators are different from that of this module. This module will be removed in 0.20.\n",
      "  \"This module will be removed in 0.20.\", DeprecationWarning)\n"
     ]
    }
   ],
   "source": [
    "import numpy as np\n",
    "import pandas as pd\n",
    "import os\n",
    "import xgboost\n",
    "from sklearn import model_selection\n",
    "from sklearn.metrics import accuracy_score"
   ]
  },
  {
   "cell_type": "code",
   "execution_count": 2,
   "metadata": {
    "collapsed": false
   },
   "outputs": [
    {
     "data": {
      "text/plain": [
       "'/Users/zhangle/AnacondaProjects'"
      ]
     },
     "execution_count": 2,
     "metadata": {},
     "output_type": "execute_result"
    }
   ],
   "source": [
    "os.getcwd() #获取当前工作目录"
   ]
  },
  {
   "cell_type": "code",
   "execution_count": 3,
   "metadata": {
    "collapsed": false
   },
   "outputs": [
    {
     "name": "stdout",
     "output_type": "stream",
     "text": [
      "copy_tb.ipynb       fs.ipynb            measle_ARIMA.ipynb  tbrecurrence.ipynb\r\n",
      "floatsmoke.ipynb    hiv.ipynb           measles.ipynb       try.ipynb\r\n"
     ]
    }
   ],
   "source": [
    "%ls # to view cwd directory contents:"
   ]
  },
  {
   "cell_type": "code",
   "execution_count": 4,
   "metadata": {
    "collapsed": false
   },
   "outputs": [],
   "source": [
    "# 读取\n",
    "tbrecurrence = pd.read_excel('/Users/zhangle/百度云同步盘/工作/tbRCT/mldata/recurrence.xlsx') "
   ]
  },
  {
   "cell_type": "code",
   "execution_count": 5,
   "metadata": {
    "collapsed": false
   },
   "outputs": [
    {
     "data": {
      "text/plain": [
       "Index(['结局复发死亡', '结局复发', 'status1', 'status2', 'time', 'Group', '组别', '单位',\n",
       "       '姓名', '编号', '文化程度', '职业', '婚姻状况', '户籍类型', '家庭人口数', '吸烟状况', '饮酒状况',\n",
       "       '医疗费用支出类型', '血红蛋白', '血小板', '白细胞', '性别', '年龄', '身高', '体重', 'BMI',\n",
       "       'INH用量', 'L2/RFP用量', 'mons1', 'mons2', 'mons3', 'mons4', 'mons5',\n",
       "       'mons6', 'scon_mon', '治疗结局', '复治次数', '登记分类', 'X肺野数', 'X:吸收', '空洞',\n",
       "       '耐药情况', ' 访第1年', '   第2年', ' 第3年', '第4年', '第5年', ' 第6年', '第7年',\n",
       "       '     备    注', '化疗方案'],\n",
       "      dtype='object')"
      ]
     },
     "execution_count": 5,
     "metadata": {},
     "output_type": "execute_result"
    }
   ],
   "source": [
    "#查看列 查看所有列\n",
    "tbrecurrence.columns"
   ]
  },
  {
   "cell_type": "code",
   "execution_count": 6,
   "metadata": {
    "collapsed": true
   },
   "outputs": [],
   "source": [
    "# 改列名 (column name) (rename) 'scon_mon'改为'转阴月份' ; \n",
    "#                              '     备    注'改为'备注'。\n",
    "tbrecurrence.columns=['结局复发死亡', '结局复发', 'status1', 'status2', 'time', 'Group', '组别', '单位',\n",
    "       '姓名', '编号', '文化程度', '职业', '婚姻状况', '户籍类型', '家庭人口数', '吸烟状况', '饮酒状况',\n",
    "       '医疗费用支出类型', '血红蛋白', '血小板', '白细胞', '性别', '年龄', '身高', '体重', 'BMI',\n",
    "       'INH用量', 'L2/RFP用量', 'mons1', 'mons2', 'mons3', 'mons4', 'mons5',\n",
    "       'mons6', '转阴月份', '治疗结局', '复治次数', '登记分类', 'X肺野数', 'X线', '空洞',\n",
    "       '耐药情况', ' 访第1年', '   第2年', ' 第3年', '第4年', '第5年', ' 第6年', '第7年',\n",
    "       '备注', '化疗方案']"
   ]
  },
  {
   "cell_type": "code",
   "execution_count": 7,
   "metadata": {
    "collapsed": false
   },
   "outputs": [
    {
     "data": {
      "text/plain": [
       "Index(['结局复发死亡', '结局复发', 'status1', 'status2', 'time', 'Group', '组别', '单位',\n",
       "       '姓名', '编号', '文化程度', '职业', '婚姻状况', '户籍类型', '家庭人口数', '吸烟状况', '饮酒状况',\n",
       "       '医疗费用支出类型', '血红蛋白', '血小板', '白细胞', '性别', '年龄', '身高', '体重', 'BMI',\n",
       "       'INH用量', 'L2/RFP用量', 'mons1', 'mons2', 'mons3', 'mons4', 'mons5',\n",
       "       'mons6', '转阴月份', '治疗结局', '复治次数', '登记分类', 'X肺野数', 'X线', '空洞', '耐药情况',\n",
       "       ' 访第1年', '   第2年', ' 第3年', '第4年', '第5年', ' 第6年', '第7年', '备注', '化疗方案'],\n",
       "      dtype='object')"
      ]
     },
     "execution_count": 7,
     "metadata": {},
     "output_type": "execute_result"
    }
   ],
   "source": [
    "# 再次查看列名\n",
    "tbrecurrence.columns"
   ]
  },
  {
   "cell_type": "code",
   "execution_count": 8,
   "metadata": {
    "collapsed": false
   },
   "outputs": [
    {
     "data": {
      "text/html": [
       "<div>\n",
       "<table border=\"1\" class=\"dataframe\">\n",
       "  <thead>\n",
       "    <tr style=\"text-align: right;\">\n",
       "      <th></th>\n",
       "      <th>结局复发死亡</th>\n",
       "      <th>结局复发</th>\n",
       "      <th>status1</th>\n",
       "      <th>status2</th>\n",
       "      <th>time</th>\n",
       "      <th>Group</th>\n",
       "      <th>组别</th>\n",
       "      <th>单位</th>\n",
       "      <th>姓名</th>\n",
       "      <th>编号</th>\n",
       "      <th>...</th>\n",
       "      <th>耐药情况</th>\n",
       "      <th>访第1年</th>\n",
       "      <th>第2年</th>\n",
       "      <th>第3年</th>\n",
       "      <th>第4年</th>\n",
       "      <th>第5年</th>\n",
       "      <th>第6年</th>\n",
       "      <th>第7年</th>\n",
       "      <th>备注</th>\n",
       "      <th>化疗方案</th>\n",
       "    </tr>\n",
       "  </thead>\n",
       "  <tbody>\n",
       "    <tr>\n",
       "      <th>0</th>\n",
       "      <td>未复发</td>\n",
       "      <td>未复发</td>\n",
       "      <td>0</td>\n",
       "      <td>0</td>\n",
       "      <td>7</td>\n",
       "      <td>高剂量组</td>\n",
       "      <td>试验组1</td>\n",
       "      <td>天津</td>\n",
       "      <td>林祥</td>\n",
       "      <td>2051048</td>\n",
       "      <td>...</td>\n",
       "      <td>敏</td>\n",
       "      <td>0</td>\n",
       "      <td>0</td>\n",
       "      <td>0</td>\n",
       "      <td>0</td>\n",
       "      <td>0</td>\n",
       "      <td>18.1</td>\n",
       "      <td>NaN</td>\n",
       "      <td>17.3天津无疫情专报CDC无复发</td>\n",
       "      <td>3H0.3L2ZELfx/5h0.3L2E</td>\n",
       "    </tr>\n",
       "  </tbody>\n",
       "</table>\n",
       "<p>1 rows × 51 columns</p>\n",
       "</div>"
      ],
      "text/plain": [
       "  结局复发死亡 结局复发  status1  status2  time Group    组别  单位  姓名       编号  \\\n",
       "0    未复发  未复发        0        0     7  高剂量组  试验组1  天津  林祥  2051048   \n",
       "\n",
       "           ...           耐药情况  访第1年    第2年  第3年  第4年 第5年   第6年  第7年  \\\n",
       "0          ...              敏     0      0    0    0   0  18.1  NaN   \n",
       "\n",
       "                  备注                   化疗方案  \n",
       "0  17.3天津无疫情专报CDC无复发  3H0.3L2ZELfx/5h0.3L2E  \n",
       "\n",
       "[1 rows x 51 columns]"
      ]
     },
     "execution_count": 8,
     "metadata": {},
     "output_type": "execute_result"
    }
   ],
   "source": [
    "# 查看表(DataFrame)\n",
    "tbrecurrence.head(n=1)"
   ]
  },
  {
   "cell_type": "code",
   "execution_count": 9,
   "metadata": {
    "collapsed": false
   },
   "outputs": [
    {
     "data": {
      "text/html": [
       "<div>\n",
       "<table border=\"1\" class=\"dataframe\">\n",
       "  <thead>\n",
       "    <tr style=\"text-align: right;\">\n",
       "      <th></th>\n",
       "      <th>结局复发死亡</th>\n",
       "      <th>结局复发</th>\n",
       "      <th>status1</th>\n",
       "      <th>status2</th>\n",
       "      <th>time</th>\n",
       "      <th>Group</th>\n",
       "      <th>组别</th>\n",
       "      <th>单位</th>\n",
       "      <th>姓名</th>\n",
       "      <th>编号</th>\n",
       "      <th>...</th>\n",
       "      <th>耐药情况</th>\n",
       "      <th>访第1年</th>\n",
       "      <th>第2年</th>\n",
       "      <th>第3年</th>\n",
       "      <th>第4年</th>\n",
       "      <th>第5年</th>\n",
       "      <th>第6年</th>\n",
       "      <th>第7年</th>\n",
       "      <th>备注</th>\n",
       "      <th>化疗方案</th>\n",
       "    </tr>\n",
       "  </thead>\n",
       "  <tbody>\n",
       "    <tr>\n",
       "      <th>112</th>\n",
       "      <td>未复发</td>\n",
       "      <td>未复发</td>\n",
       "      <td>0</td>\n",
       "      <td>0</td>\n",
       "      <td>7</td>\n",
       "      <td>长程组</td>\n",
       "      <td>试验组2长</td>\n",
       "      <td>后补</td>\n",
       "      <td>李红蕾</td>\n",
       "      <td>2051002</td>\n",
       "      <td>...</td>\n",
       "      <td>敏</td>\n",
       "      <td>0</td>\n",
       "      <td>0</td>\n",
       "      <td>0</td>\n",
       "      <td>0</td>\n",
       "      <td>0</td>\n",
       "      <td>17.5</td>\n",
       "      <td>NaN</td>\n",
       "      <td>NaN</td>\n",
       "      <td>NaN</td>\n",
       "    </tr>\n",
       "  </tbody>\n",
       "</table>\n",
       "<p>1 rows × 51 columns</p>\n",
       "</div>"
      ],
      "text/plain": [
       "    结局复发死亡 结局复发  status1  status2  time Group     组别  单位    姓名       编号  ...   \\\n",
       "112    未复发  未复发        0        0     7   长程组  试验组2长  后补  李红蕾   2051002  ...    \n",
       "\n",
       "    耐药情况  访第1年    第2年  第3年  第4年 第5年   第6年  第7年   备注  化疗方案  \n",
       "112    敏     0      0    0    0   0  17.5  NaN  NaN   NaN  \n",
       "\n",
       "[1 rows x 51 columns]"
      ]
     },
     "execution_count": 9,
     "metadata": {},
     "output_type": "execute_result"
    }
   ],
   "source": [
    "tbrecurrence[tbrecurrence.BMI.isnull()]"
   ]
  },
  {
   "cell_type": "code",
   "execution_count": 10,
   "metadata": {
    "collapsed": false,
    "scrolled": true
   },
   "outputs": [
    {
     "data": {
      "text/plain": [
       "0    未复发\n",
       "1    未复发\n",
       "2    未复发\n",
       "3    未复发\n",
       "4    未复发\n",
       "Name: 结局复发, dtype: object"
      ]
     },
     "execution_count": 10,
     "metadata": {},
     "output_type": "execute_result"
    }
   ],
   "source": [
    "# 查看变量 查看某一列 查看列\n",
    "tbrecurrence.结局复发.head()"
   ]
  },
  {
   "cell_type": "code",
   "execution_count": 11,
   "metadata": {
    "collapsed": false
   },
   "outputs": [
    {
     "data": {
      "text/plain": [
       "0    未复发\n",
       "1    未复发\n",
       "2    未复发\n",
       "3    未复发\n",
       "4    未复发\n",
       "Name: 结局复发, dtype: object"
      ]
     },
     "execution_count": 11,
     "metadata": {},
     "output_type": "execute_result"
    }
   ],
   "source": [
    "# 查看变量 查看某一列 查看列\n",
    "tbrecurrence['结局复发'].head()"
   ]
  },
  {
   "cell_type": "code",
   "execution_count": 12,
   "metadata": {
    "collapsed": false
   },
   "outputs": [
    {
     "data": {
      "text/plain": [
       "结局复发死亡     未复发\n",
       "结局复发       未复发\n",
       "status1      0\n",
       "status2      0\n",
       "time         7\n",
       "Name: 0, dtype: object"
      ]
     },
     "execution_count": 12,
     "metadata": {},
     "output_type": "execute_result"
    }
   ],
   "source": [
    "# 查看行 查看记录 查看某一条记录 ix 即 index\n",
    "tbrecurrence.ix[0].head()"
   ]
  },
  {
   "cell_type": "code",
   "execution_count": 13,
   "metadata": {
    "collapsed": false
   },
   "outputs": [
    {
     "data": {
      "text/plain": [
       "255"
      ]
     },
     "execution_count": 13,
     "metadata": {},
     "output_type": "execute_result"
    }
   ],
   "source": [
    "# 计数 多少个 查看个数\n",
    "tbrecurrence['组别'].count() # How many rows the dataset"
   ]
  },
  {
   "cell_type": "code",
   "execution_count": 14,
   "metadata": {
    "collapsed": false,
    "scrolled": false
   },
   "outputs": [
    {
     "data": {
      "text/plain": [
       "结局复发死亡     255\n",
       "结局复发       255\n",
       "status1    255\n",
       "status2    255\n",
       "time       255\n",
       "dtype: int64"
      ]
     },
     "execution_count": 14,
     "metadata": {},
     "output_type": "execute_result"
    }
   ],
   "source": [
    "# 计数 多少个 查看个数\n",
    "tbrecurrence.count().head()"
   ]
  },
  {
   "cell_type": "code",
   "execution_count": 15,
   "metadata": {
    "collapsed": false,
    "scrolled": true
   },
   "outputs": [
    {
     "data": {
      "text/plain": [
       "备注      163\n",
       "第7年     157\n",
       " 第6年     25\n",
       "血红蛋白      2\n",
       "血小板       2\n",
       "白细胞       2\n",
       "化疗方案      1\n",
       "文化程度      1\n",
       "职业        1\n",
       "婚姻状况      1\n",
       "dtype: int64"
      ]
     },
     "execution_count": 15,
     "metadata": {},
     "output_type": "execute_result"
    }
   ],
   "source": [
    "# 查看缺失\n",
    "tbrecurrence.isnull().sum().sort_values(ascending=False).head(10)"
   ]
  },
  {
   "cell_type": "code",
   "execution_count": 16,
   "metadata": {
    "collapsed": false,
    "scrolled": true
   },
   "outputs": [],
   "source": [
    "# 缺失值用均值代替\n",
    "mean_cols = tbrecurrence.mean()\n",
    "tbrecurrence_new = tbrecurrence.fillna(mean_cols)\n",
    "# age = df['age'].fillna(value=df.age.mean())"
   ]
  },
  {
   "cell_type": "markdown",
   "metadata": {},
   "source": [
    "将sex转为0-1变量\n",
    "    # sex = (df['sex']=='male').astype('int')"
   ]
  },
  {
   "cell_type": "markdown",
   "metadata": {},
   "source": [
    "#### 查看哪些是 numerical features"
   ]
  },
  {
   "cell_type": "code",
   "execution_count": 17,
   "metadata": {
    "collapsed": false,
    "scrolled": false
   },
   "outputs": [
    {
     "data": {
      "text/plain": [
       "Index(['status1', 'status2', 'time', '编号', '家庭人口数', '血红蛋白', '血小板', '白细胞', '年龄',\n",
       "       '身高', '体重', 'BMI', '复治次数'],\n",
       "      dtype='object')"
      ]
     },
     "execution_count": 17,
     "metadata": {},
     "output_type": "execute_result"
    }
   ],
   "source": [
    "numeric_cols = tbrecurrence.columns[tbrecurrence.dtypes != 'object']\n",
    "numeric_cols"
   ]
  },
  {
   "cell_type": "markdown",
   "metadata": {},
   "source": [
    "#### 标准化/平滑化 numerical features\n",
    "(X-X')/sd"
   ]
  },
  {
   "cell_type": "code",
   "execution_count": 18,
   "metadata": {
    "collapsed": false
   },
   "outputs": [],
   "source": [
    "numerical_col_means = tbrecurrence.loc[:,numeric_cols].mean()"
   ]
  },
  {
   "cell_type": "code",
   "execution_count": 19,
   "metadata": {
    "collapsed": false
   },
   "outputs": [],
   "source": [
    "numerical_col_std = tbrecurrence.loc[:,numeric_cols].std()"
   ]
  },
  {
   "cell_type": "code",
   "execution_count": 20,
   "metadata": {
    "collapsed": true
   },
   "outputs": [],
   "source": [
    "t = tbrecurrence.copy()"
   ]
  },
  {
   "cell_type": "code",
   "execution_count": 21,
   "metadata": {
    "collapsed": false
   },
   "outputs": [],
   "source": [
    "t.loc[:,numeric_cols] = (t.loc[:,numeric_cols] - numerical_col_means\n",
    "                        )/numerical_col_std"
   ]
  },
  {
   "cell_type": "markdown",
   "metadata": {},
   "source": [
    "#### 填补缺失值"
   ]
  },
  {
   "cell_type": "code",
   "execution_count": 22,
   "metadata": {
    "collapsed": false
   },
   "outputs": [],
   "source": [
    "# 查看变量分类 分类变量\n",
    "tbrecurrence['结局复发'].value_counts()\n",
    "tbrecurrence.loc[tbrecurrence.结局复发=='死亡','结局复发']='未复发'"
   ]
  },
  {
   "cell_type": "code",
   "execution_count": 23,
   "metadata": {
    "collapsed": false
   },
   "outputs": [
    {
     "data": {
      "text/plain": [
       "中学        137\n",
       "小学         58\n",
       "大专本科以上     36\n",
       "0          13\n",
       "文盲         10\n",
       "Name: 文化程度, dtype: int64"
      ]
     },
     "execution_count": 23,
     "metadata": {},
     "output_type": "execute_result"
    }
   ],
   "source": [
    "# 查看变量分类 分类变量\n",
    "tbrecurrence['文化程度'].value_counts()"
   ]
  },
  {
   "cell_type": "code",
   "execution_count": 24,
   "metadata": {
    "collapsed": false
   },
   "outputs": [
    {
     "data": {
      "text/plain": [
       "中学         137\n",
       "小学          58\n",
       "大专本科以上      36\n",
       "Unknown     14\n",
       "文盲          10\n",
       "Name: 文化程度, dtype: int64"
      ]
     },
     "execution_count": 24,
     "metadata": {},
     "output_type": "execute_result"
    }
   ],
   "source": [
    "# 填补缺失值\n",
    "clean_文化程度 = tbrecurrence['文化程度'].fillna('Unknown')\n",
    "clean_文化程度[clean_文化程度 == '0'] = 'Unknown'\n",
    "clean_文化程度.value_counts()"
   ]
  },
  {
   "cell_type": "code",
   "execution_count": 25,
   "metadata": {
    "collapsed": false
   },
   "outputs": [
    {
     "data": {
      "text/plain": [
       "高剂量组    73\n",
       "个体化组    69\n",
       "长程组     62\n",
       "对照组     51\n",
       "Name: Group, dtype: int64"
      ]
     },
     "execution_count": 25,
     "metadata": {},
     "output_type": "execute_result"
    }
   ],
   "source": [
    "# 查看变量分类 分类变量\n",
    "tbrecurrence.Group.value_counts()"
   ]
  },
  {
   "cell_type": "code",
   "execution_count": 26,
   "metadata": {
    "collapsed": false,
    "scrolled": true
   },
   "outputs": [
    {
     "data": {
      "text/html": [
       "<div>\n",
       "<table border=\"1\" class=\"dataframe\">\n",
       "  <thead>\n",
       "    <tr style=\"text-align: right;\">\n",
       "      <th></th>\n",
       "      <th>结局复发死亡</th>\n",
       "      <th>结局复发</th>\n",
       "      <th>status1</th>\n",
       "      <th>status2</th>\n",
       "      <th>time</th>\n",
       "      <th>Group</th>\n",
       "      <th>组别</th>\n",
       "      <th>单位</th>\n",
       "      <th>姓名</th>\n",
       "      <th>编号</th>\n",
       "      <th>...</th>\n",
       "      <th>耐药情况</th>\n",
       "      <th>访第1年</th>\n",
       "      <th>第2年</th>\n",
       "      <th>第3年</th>\n",
       "      <th>第4年</th>\n",
       "      <th>第5年</th>\n",
       "      <th>第6年</th>\n",
       "      <th>第7年</th>\n",
       "      <th>备注</th>\n",
       "      <th>化疗方案</th>\n",
       "    </tr>\n",
       "  </thead>\n",
       "  <tbody>\n",
       "    <tr>\n",
       "      <th>0</th>\n",
       "      <td>未复发</td>\n",
       "      <td>未复发</td>\n",
       "      <td>0</td>\n",
       "      <td>0</td>\n",
       "      <td>7</td>\n",
       "      <td>高剂量组</td>\n",
       "      <td>试验组1</td>\n",
       "      <td>天津</td>\n",
       "      <td>林祥</td>\n",
       "      <td>2051048</td>\n",
       "      <td>...</td>\n",
       "      <td>敏</td>\n",
       "      <td>0</td>\n",
       "      <td>0</td>\n",
       "      <td>0</td>\n",
       "      <td>0</td>\n",
       "      <td>0</td>\n",
       "      <td>18.1</td>\n",
       "      <td>NaN</td>\n",
       "      <td>17.3天津无疫情专报CDC无复发</td>\n",
       "      <td>3H0.3L2ZELfx/5h0.3L2E</td>\n",
       "    </tr>\n",
       "  </tbody>\n",
       "</table>\n",
       "<p>1 rows × 51 columns</p>\n",
       "</div>"
      ],
      "text/plain": [
       "  结局复发死亡 结局复发  status1  status2  time Group    组别  单位  姓名       编号  \\\n",
       "0    未复发  未复发        0        0     7  高剂量组  试验组1  天津  林祥  2051048   \n",
       "\n",
       "           ...           耐药情况  访第1年    第2年  第3年  第4年 第5年   第6年  第7年  \\\n",
       "0          ...              敏     0      0    0    0   0  18.1  NaN   \n",
       "\n",
       "                  备注                   化疗方案  \n",
       "0  17.3天津无疫情专报CDC无复发  3H0.3L2ZELfx/5h0.3L2E  \n",
       "\n",
       "[1 rows x 51 columns]"
      ]
     },
     "execution_count": 26,
     "metadata": {},
     "output_type": "execute_result"
    }
   ],
   "source": [
    "# 复制表\n",
    "tbrecurrence.copy()[:1]"
   ]
  },
  {
   "cell_type": "code",
   "execution_count": 27,
   "metadata": {
    "collapsed": false
   },
   "outputs": [],
   "source": [
    "# 重编码变量 空洞\n",
    "tbrecurrence.空洞.value_counts()\n",
    "tbrecurrence.空洞.value_counts().sum()\n",
    "# 重编码 空洞 \n",
    "tbrecurrence.loc[tbrecurrence.空洞=='33个 1','空洞']=1\n",
    "tbrecurrence.loc[tbrecurrence.空洞=='洞  0','空洞']=0\n",
    "tbrecurrence.loc[tbrecurrence.空洞=='22  0','空洞']=0"
   ]
  },
  {
   "cell_type": "code",
   "execution_count": 28,
   "metadata": {
    "collapsed": false,
    "scrolled": true
   },
   "outputs": [
    {
     "data": {
      "text/plain": [
       "组别          对照组\n",
       "单位           遵义\n",
       "姓名          郭忠强\n",
       "编号      2201033\n",
       "文化程度          0\n",
       "Name: 245, dtype: object"
      ]
     },
     "execution_count": 28,
     "metadata": {},
     "output_type": "execute_result"
    }
   ],
   "source": [
    "# 查看 耐药情况 分类\n",
    "tbrecurrence.耐药情况.value_counts()\n",
    "# 查看 耐药情况为‘耐’的这条原始记录\n",
    "tbrr = pd.read_excel('/Users/zhangle/百度云同步盘/工作/tbRCT/mldata/recurrence未删除var.xlsx')\n",
    "tbrr[tbrr.耐药情况=='耐']\n",
    "tbrr.ix[245,:5]"
   ]
  },
  {
   "cell_type": "code",
   "execution_count": 29,
   "metadata": {
    "collapsed": false
   },
   "outputs": [
    {
     "data": {
      "text/plain": [
       "敏          151\n",
       "单耐          48\n",
       "多耐          42\n",
       "Unknown     14\n",
       "Name: 耐药情况, dtype: int64"
      ]
     },
     "execution_count": 29,
     "metadata": {},
     "output_type": "execute_result"
    }
   ],
   "source": [
    "# 重编码耐药情况 缺失值填补\n",
    "tbrecurrence.耐药情况.fillna('Unknown')\n",
    "tbrecurrence.loc[tbrecurrence.耐药情况 == '耐','耐药情况'] = 'Unknown'\n",
    "tbrecurrence.耐药情况.value_counts()"
   ]
  },
  {
   "cell_type": "code",
   "execution_count": 30,
   "metadata": {
    "collapsed": false
   },
   "outputs": [
    {
     "data": {
      "text/plain": [
       "count             254\n",
       "unique            194\n",
       "top       2HRZES/6HRE\n",
       "freq               15\n",
       "Name: 化疗方案, dtype: object"
      ]
     },
     "execution_count": 30,
     "metadata": {},
     "output_type": "execute_result"
    }
   ],
   "source": [
    "tbrecurrence.化疗方案.describe()"
   ]
  },
  {
   "cell_type": "code",
   "execution_count": 31,
   "metadata": {
    "collapsed": false
   },
   "outputs": [],
   "source": [
    "tbrecurrence.loc[tbrecurrence.X肺野数 == '无X','X肺野数'] = 'Unknown'\n",
    "tbrecurrence.loc[tbrecurrence.空洞 == '无X','空洞'] = 'Unknown'"
   ]
  },
  {
   "cell_type": "code",
   "execution_count": 32,
   "metadata": {
    "collapsed": false,
    "scrolled": true
   },
   "outputs": [
    {
     "data": {
      "text/plain": [
       "结局复发        255\n",
       "Group       255\n",
       "文化程度        254\n",
       "职业          254\n",
       "婚姻状况        254\n",
       "户籍类型        254\n",
       "家庭人口数       254\n",
       "吸烟状况        254\n",
       "饮酒状况        254\n",
       "医疗费用支出类型    254\n",
       "血红蛋白        253\n",
       "性别          255\n",
       "年龄          255\n",
       "BMI         254\n",
       "转阴月份        255\n",
       "复治次数        254\n",
       "登记分类        254\n",
       "X肺野数        254\n",
       "X线          254\n",
       "空洞          254\n",
       "耐药情况        255\n",
       "化疗方案        254\n",
       "备注           92\n",
       "dtype: int64"
      ]
     },
     "execution_count": 32,
     "metadata": {},
     "output_type": "execute_result"
    }
   ],
   "source": [
    "# 新建表 筛选变量 排序变量名 变量顺序 reindex(columns=[])\n",
    "tbr = tbrecurrence.reindex(columns=['结局复发','Group','文化程度', '职业', '婚姻状况', '户籍类型', '家庭人口数', '吸烟状况', \n",
    "                                    '饮酒状况','医疗费用支出类型', '血红蛋白','性别', '年龄','BMI','转阴月份','复治次数', \n",
    "                                    '登记分类','X肺野数', 'X线', '空洞', '耐药情况','化疗方案','备注'])\n",
    "tbr.count()"
   ]
  },
  {
   "cell_type": "code",
   "execution_count": 33,
   "metadata": {
    "collapsed": false
   },
   "outputs": [
    {
     "data": {
      "text/html": [
       "<div>\n",
       "<table border=\"1\" class=\"dataframe\">\n",
       "  <thead>\n",
       "    <tr style=\"text-align: right;\">\n",
       "      <th></th>\n",
       "      <th>结局复发</th>\n",
       "      <th>Group</th>\n",
       "      <th>文化程度</th>\n",
       "      <th>职业</th>\n",
       "      <th>婚姻状况</th>\n",
       "      <th>户籍类型</th>\n",
       "      <th>家庭人口数</th>\n",
       "      <th>吸烟状况</th>\n",
       "      <th>饮酒状况</th>\n",
       "      <th>医疗费用支出类型</th>\n",
       "      <th>...</th>\n",
       "      <th>性别</th>\n",
       "      <th>年龄</th>\n",
       "      <th>BMI</th>\n",
       "      <th>转阴月份</th>\n",
       "      <th>复治次数</th>\n",
       "      <th>登记分类</th>\n",
       "      <th>X肺野数</th>\n",
       "      <th>X线</th>\n",
       "      <th>空洞</th>\n",
       "      <th>耐药情况</th>\n",
       "    </tr>\n",
       "  </thead>\n",
       "  <tbody>\n",
       "    <tr>\n",
       "      <th>0</th>\n",
       "      <td>未复发</td>\n",
       "      <td>高剂量组</td>\n",
       "      <td>大专本科以上</td>\n",
       "      <td>待业下岗人员</td>\n",
       "      <td>未婚</td>\n",
       "      <td>本地户籍</td>\n",
       "      <td>3.0</td>\n",
       "      <td>过去抽现在不抽</td>\n",
       "      <td>过去喝现在不喝</td>\n",
       "      <td>自费</td>\n",
       "      <td>...</td>\n",
       "      <td>男</td>\n",
       "      <td>24</td>\n",
       "      <td>19.4</td>\n",
       "      <td>1</td>\n",
       "      <td>1.0</td>\n",
       "      <td>复发</td>\n",
       "      <td>5</td>\n",
       "      <td>吸收</td>\n",
       "      <td>1</td>\n",
       "      <td>敏</td>\n",
       "    </tr>\n",
       "    <tr>\n",
       "      <th>1</th>\n",
       "      <td>未复发</td>\n",
       "      <td>高剂量组</td>\n",
       "      <td>中学</td>\n",
       "      <td>外来务工人员</td>\n",
       "      <td>未婚</td>\n",
       "      <td>非本地12mo以上</td>\n",
       "      <td>4.0</td>\n",
       "      <td>从来不</td>\n",
       "      <td>从来不</td>\n",
       "      <td>自费</td>\n",
       "      <td>...</td>\n",
       "      <td>女</td>\n",
       "      <td>20</td>\n",
       "      <td>20.4</td>\n",
       "      <td>1</td>\n",
       "      <td>1.0</td>\n",
       "      <td>复发</td>\n",
       "      <td>4</td>\n",
       "      <td>吸收</td>\n",
       "      <td>1</td>\n",
       "      <td>敏</td>\n",
       "    </tr>\n",
       "    <tr>\n",
       "      <th>2</th>\n",
       "      <td>未复发</td>\n",
       "      <td>高剂量组</td>\n",
       "      <td>中学</td>\n",
       "      <td>其它</td>\n",
       "      <td>已婚</td>\n",
       "      <td>本地户籍</td>\n",
       "      <td>3.0</td>\n",
       "      <td>现在抽</td>\n",
       "      <td>从来不</td>\n",
       "      <td>自费</td>\n",
       "      <td>...</td>\n",
       "      <td>男</td>\n",
       "      <td>52</td>\n",
       "      <td>18.1</td>\n",
       "      <td>1</td>\n",
       "      <td>1.0</td>\n",
       "      <td>复发</td>\n",
       "      <td>4</td>\n",
       "      <td>吸收</td>\n",
       "      <td>0</td>\n",
       "      <td>敏</td>\n",
       "    </tr>\n",
       "  </tbody>\n",
       "</table>\n",
       "<p>3 rows × 21 columns</p>\n",
       "</div>"
      ],
      "text/plain": [
       "  结局复发 Group    文化程度      职业 婚姻状况       户籍类型  家庭人口数     吸烟状况     饮酒状况  \\\n",
       "0  未复发  高剂量组  大专本科以上  待业下岗人员   未婚       本地户籍    3.0  过去抽现在不抽  过去喝现在不喝   \n",
       "1  未复发  高剂量组      中学  外来务工人员   未婚  非本地12mo以上    4.0      从来不      从来不   \n",
       "2  未复发  高剂量组      中学      其它   已婚       本地户籍    3.0      现在抽      从来不   \n",
       "\n",
       "  医疗费用支出类型 ...   性别  年龄   BMI  转阴月份 复治次数  登记分类 X肺野数  X线 空洞 耐药情况  \n",
       "0       自费 ...    男  24  19.4     1  1.0    复发    5  吸收  1    敏  \n",
       "1       自费 ...    女  20  20.4     1  1.0    复发    4  吸收  1    敏  \n",
       "2       自费 ...    男  52  18.1     1  1.0    复发    4  吸收  0    敏  \n",
       "\n",
       "[3 rows x 21 columns]"
      ]
     },
     "execution_count": 33,
     "metadata": {},
     "output_type": "execute_result"
    }
   ],
   "source": [
    "# 删除变量 obj.drop(['','',''], axis=1)\n",
    "tbr = tbr.drop(['备注','化疗方案'], axis=1)\n",
    "tbr[:3]"
   ]
  },
  {
   "cell_type": "code",
   "execution_count": 34,
   "metadata": {
    "collapsed": false
   },
   "outputs": [],
   "source": [
    "# 缺失值处理\n",
    "# 将所有列的空值 填补为 Unknown\n",
    "columns=['结局复发','Group','文化程度', '职业', '婚姻状况', '户籍类型', '家庭人口数', '吸烟状况', '饮酒状况',\n",
    "       '医疗费用支出类型', '血红蛋白','性别', '年龄','BMI','转阴月份','复治次数', '登记分类','X肺野数', 'X线', '空洞', '耐药情况']\n",
    "for c in columns:\n",
    "    tbr[c] = tbr[c].fillna('Unknown')"
   ]
  },
  {
   "cell_type": "code",
   "execution_count": 35,
   "metadata": {
    "collapsed": false
   },
   "outputs": [],
   "source": [
    "# 缺失值处理\n",
    "# 将所有分类变量的 0值 填补为 Unknown\n",
    "columns = ['文化程度', '职业', '婚姻状况', '户籍类型', '吸烟状况', '饮酒状况','医疗费用支出类型', '性别','BMI','转阴月份','登记分类',\n",
    "           'X肺野数', 'X线', '空洞', '耐药情况']\n",
    "for col in columns:\n",
    "    tbr.loc[tbr[col]=='0',col]='Unknown'"
   ]
  },
  {
   "cell_type": "code",
   "execution_count": 36,
   "metadata": {
    "collapsed": true
   },
   "outputs": [],
   "source": [
    "# 缺失值处理\n",
    "# 将所有分类变量的 0值 替换为 Unknown\n",
    "for col in columns:\n",
    "    tbr[col]=tbr[col].replace('0','Unknown')"
   ]
  },
  {
   "cell_type": "code",
   "execution_count": 37,
   "metadata": {
    "collapsed": false
   },
   "outputs": [
    {
     "data": {
      "text/html": [
       "<div>\n",
       "<table border=\"1\" class=\"dataframe\">\n",
       "  <thead>\n",
       "    <tr style=\"text-align: right;\">\n",
       "      <th></th>\n",
       "      <th>结局复发</th>\n",
       "      <th>Group</th>\n",
       "      <th>文化程度</th>\n",
       "      <th>职业</th>\n",
       "      <th>婚姻状况</th>\n",
       "      <th>户籍类型</th>\n",
       "      <th>家庭人口数</th>\n",
       "      <th>吸烟状况</th>\n",
       "      <th>饮酒状况</th>\n",
       "      <th>医疗费用支出类型</th>\n",
       "      <th>...</th>\n",
       "      <th>性别</th>\n",
       "      <th>年龄</th>\n",
       "      <th>BMI</th>\n",
       "      <th>转阴月份</th>\n",
       "      <th>复治次数</th>\n",
       "      <th>登记分类</th>\n",
       "      <th>X肺野数</th>\n",
       "      <th>X线</th>\n",
       "      <th>空洞</th>\n",
       "      <th>耐药情况</th>\n",
       "    </tr>\n",
       "  </thead>\n",
       "  <tbody>\n",
       "    <tr>\n",
       "      <th>112</th>\n",
       "      <td>未复发</td>\n",
       "      <td>长程组</td>\n",
       "      <td>小学</td>\n",
       "      <td>外来务工人员</td>\n",
       "      <td>其它</td>\n",
       "      <td>非本地12mo以上</td>\n",
       "      <td>4</td>\n",
       "      <td>过去抽现在不抽</td>\n",
       "      <td>过去喝现在不喝</td>\n",
       "      <td>自费</td>\n",
       "      <td>...</td>\n",
       "      <td>女</td>\n",
       "      <td>21</td>\n",
       "      <td>Unknown</td>\n",
       "      <td>1</td>\n",
       "      <td>Unknown</td>\n",
       "      <td>Unknown</td>\n",
       "      <td>Unknown</td>\n",
       "      <td>Unknown</td>\n",
       "      <td>Unknown</td>\n",
       "      <td>敏</td>\n",
       "    </tr>\n",
       "  </tbody>\n",
       "</table>\n",
       "<p>1 rows × 21 columns</p>\n",
       "</div>"
      ],
      "text/plain": [
       "    结局复发 Group 文化程度      职业 婚姻状况       户籍类型 家庭人口数     吸烟状况     饮酒状况 医疗费用支出类型  \\\n",
       "112  未复发   长程组   小学  外来务工人员   其它  非本地12mo以上     4  过去抽现在不抽  过去喝现在不喝       自费   \n",
       "\n",
       "    ...  性别  年龄      BMI 转阴月份     复治次数     登记分类     X肺野数       X线       空洞  \\\n",
       "112 ...   女  21  Unknown    1  Unknown  Unknown  Unknown  Unknown  Unknown   \n",
       "\n",
       "    耐药情况  \n",
       "112    敏  \n",
       "\n",
       "[1 rows x 21 columns]"
      ]
     },
     "execution_count": 37,
     "metadata": {},
     "output_type": "execute_result"
    }
   ],
   "source": [
    "tbr[tbr.BMI=='Unknown']"
   ]
  },
  {
   "cell_type": "code",
   "execution_count": 38,
   "metadata": {
    "collapsed": false,
    "scrolled": false
   },
   "outputs": [
    {
     "data": {
      "text/html": [
       "<div>\n",
       "<table border=\"1\" class=\"dataframe\">\n",
       "  <thead>\n",
       "    <tr style=\"text-align: right;\">\n",
       "      <th></th>\n",
       "      <th>结局复发</th>\n",
       "      <th>Group</th>\n",
       "      <th>文化程度</th>\n",
       "      <th>职业</th>\n",
       "      <th>婚姻状况</th>\n",
       "      <th>户籍类型</th>\n",
       "      <th>家庭人口数</th>\n",
       "      <th>吸烟状况</th>\n",
       "      <th>饮酒状况</th>\n",
       "      <th>医疗费用支出类型</th>\n",
       "      <th>...</th>\n",
       "      <th>性别</th>\n",
       "      <th>年龄</th>\n",
       "      <th>BMI</th>\n",
       "      <th>转阴月份</th>\n",
       "      <th>复治次数</th>\n",
       "      <th>登记分类</th>\n",
       "      <th>X肺野数</th>\n",
       "      <th>X线</th>\n",
       "      <th>空洞</th>\n",
       "      <th>耐药情况</th>\n",
       "    </tr>\n",
       "  </thead>\n",
       "  <tbody>\n",
       "    <tr>\n",
       "      <th>122</th>\n",
       "      <td>未复发</td>\n",
       "      <td>长程组</td>\n",
       "      <td>Unknown</td>\n",
       "      <td>Unknown</td>\n",
       "      <td>Unknown</td>\n",
       "      <td>Unknown</td>\n",
       "      <td>Unknown</td>\n",
       "      <td>Unknown</td>\n",
       "      <td>Unknown</td>\n",
       "      <td>Unknown</td>\n",
       "      <td>...</td>\n",
       "      <td>男</td>\n",
       "      <td>44</td>\n",
       "      <td>23.9</td>\n",
       "      <td>Unknown</td>\n",
       "      <td>1</td>\n",
       "      <td>复发</td>\n",
       "      <td>3</td>\n",
       "      <td>吸收</td>\n",
       "      <td>0</td>\n",
       "      <td>敏</td>\n",
       "    </tr>\n",
       "  </tbody>\n",
       "</table>\n",
       "<p>1 rows × 21 columns</p>\n",
       "</div>"
      ],
      "text/plain": [
       "    结局复发 Group     文化程度       职业     婚姻状况     户籍类型    家庭人口数     吸烟状况     饮酒状况  \\\n",
       "122  未复发   长程组  Unknown  Unknown  Unknown  Unknown  Unknown  Unknown  Unknown   \n",
       "\n",
       "    医疗费用支出类型 ...  性别  年龄   BMI     转阴月份 复治次数 登记分类 X肺野数  X线 空洞 耐药情况  \n",
       "122  Unknown ...   男  44  23.9  Unknown    1   复发    3  吸收  0    敏  \n",
       "\n",
       "[1 rows x 21 columns]"
      ]
     },
     "execution_count": 38,
     "metadata": {},
     "output_type": "execute_result"
    }
   ],
   "source": [
    "# 啥看 Unknown多的index行\n",
    "tbr[tbr.户籍类型=='Unknown']"
   ]
  },
  {
   "cell_type": "code",
   "execution_count": 39,
   "metadata": {
    "collapsed": false,
    "scrolled": false
   },
   "outputs": [
    {
     "data": {
      "text/plain": [
       "255"
      ]
     },
     "execution_count": 39,
     "metadata": {},
     "output_type": "execute_result"
    }
   ],
   "source": [
    "tbr.Group.count()"
   ]
  },
  {
   "cell_type": "code",
   "execution_count": 40,
   "metadata": {
    "collapsed": true
   },
   "outputs": [],
   "source": [
    "# 删除 第 112 和 122行\n",
    "tbr = tbr.drop([112,122],axis=0)"
   ]
  },
  {
   "cell_type": "code",
   "execution_count": 41,
   "metadata": {
    "collapsed": false,
    "scrolled": false
   },
   "outputs": [
    {
     "data": {
      "text/plain": [
       "253"
      ]
     },
     "execution_count": 41,
     "metadata": {},
     "output_type": "execute_result"
    }
   ],
   "source": [
    "tbr.Group.count()"
   ]
  },
  {
   "cell_type": "code",
   "execution_count": 42,
   "metadata": {
    "collapsed": false
   },
   "outputs": [],
   "source": [
    "# 删除列 del\n",
    "# 删除列 del tbr['文化程度', '职业', '婚姻状况', '户籍类型']"
   ]
  },
  {
   "cell_type": "code",
   "execution_count": 43,
   "metadata": {
    "collapsed": false,
    "scrolled": true
   },
   "outputs": [
    {
     "data": {
      "text/plain": [
       "0-30     71\n",
       "50-      63\n",
       "40-50    60\n",
       "30-40    59\n",
       "Name: 年龄, dtype: int64"
      ]
     },
     "execution_count": 43,
     "metadata": {},
     "output_type": "execute_result"
    }
   ],
   "source": [
    "# 年龄 离散化 面元划分 Discretization and binning \n",
    "pd.cut(tbr.年龄,[0,30,40,50,77],labels=['0-30','30-40','40-50','50-']).value_counts()"
   ]
  },
  {
   "cell_type": "code",
   "execution_count": 44,
   "metadata": {
    "collapsed": true
   },
   "outputs": [],
   "source": [
    "# 离散化 年龄 Discretization and binning \n",
    "tbr['Age'] = pd.cut(tbr.年龄,[0,30,40,50,77],labels=['0-30','30-40','40-50','50-'])"
   ]
  },
  {
   "cell_type": "code",
   "execution_count": 45,
   "metadata": {
    "collapsed": false
   },
   "outputs": [
    {
     "data": {
      "text/plain": [
       "3.0    83\n",
       "4.0    62\n",
       "5.0    38\n",
       "2.0    28\n",
       "0.0    14\n",
       "1.0    11\n",
       "7.0     9\n",
       "6.0     7\n",
       "8.0     1\n",
       "Name: 家庭人口数, dtype: int64"
      ]
     },
     "execution_count": 45,
     "metadata": {},
     "output_type": "execute_result"
    }
   ],
   "source": [
    "tbr.家庭人口数.value_counts()"
   ]
  },
  {
   "cell_type": "code",
   "execution_count": 46,
   "metadata": {
    "collapsed": false,
    "scrolled": true
   },
   "outputs": [
    {
     "data": {
      "text/html": [
       "<div>\n",
       "<table border=\"1\" class=\"dataframe\">\n",
       "  <thead>\n",
       "    <tr style=\"text-align: right;\">\n",
       "      <th>结局复发</th>\n",
       "      <th>复发</th>\n",
       "      <th>未复发</th>\n",
       "    </tr>\n",
       "    <tr>\n",
       "      <th>家庭人口数</th>\n",
       "      <th></th>\n",
       "      <th></th>\n",
       "    </tr>\n",
       "  </thead>\n",
       "  <tbody>\n",
       "    <tr>\n",
       "      <th>0.0</th>\n",
       "      <td>3.0</td>\n",
       "      <td>11.0</td>\n",
       "    </tr>\n",
       "    <tr>\n",
       "      <th>1.0</th>\n",
       "      <td>1.0</td>\n",
       "      <td>10.0</td>\n",
       "    </tr>\n",
       "    <tr>\n",
       "      <th>2.0</th>\n",
       "      <td>1.0</td>\n",
       "      <td>27.0</td>\n",
       "    </tr>\n",
       "    <tr>\n",
       "      <th>3.0</th>\n",
       "      <td>6.0</td>\n",
       "      <td>77.0</td>\n",
       "    </tr>\n",
       "    <tr>\n",
       "      <th>4.0</th>\n",
       "      <td>3.0</td>\n",
       "      <td>59.0</td>\n",
       "    </tr>\n",
       "    <tr>\n",
       "      <th>5.0</th>\n",
       "      <td>1.0</td>\n",
       "      <td>37.0</td>\n",
       "    </tr>\n",
       "    <tr>\n",
       "      <th>6.0</th>\n",
       "      <td>NaN</td>\n",
       "      <td>7.0</td>\n",
       "    </tr>\n",
       "    <tr>\n",
       "      <th>7.0</th>\n",
       "      <td>1.0</td>\n",
       "      <td>8.0</td>\n",
       "    </tr>\n",
       "    <tr>\n",
       "      <th>8.0</th>\n",
       "      <td>NaN</td>\n",
       "      <td>1.0</td>\n",
       "    </tr>\n",
       "  </tbody>\n",
       "</table>\n",
       "</div>"
      ],
      "text/plain": [
       "结局复发    复发   未复发\n",
       "家庭人口数           \n",
       "0.0    3.0  11.0\n",
       "1.0    1.0  10.0\n",
       "2.0    1.0  27.0\n",
       "3.0    6.0  77.0\n",
       "4.0    3.0  59.0\n",
       "5.0    1.0  37.0\n",
       "6.0    NaN   7.0\n",
       "7.0    1.0   8.0\n",
       "8.0    NaN   1.0"
      ]
     },
     "execution_count": 46,
     "metadata": {},
     "output_type": "execute_result"
    }
   ],
   "source": [
    "# 数据透视表\n",
    "pd.pivot_table(tbr,index='家庭人口数',columns='结局复发',values='年龄',aggfunc='count')"
   ]
  },
  {
   "cell_type": "code",
   "execution_count": 47,
   "metadata": {
    "collapsed": false,
    "scrolled": true
   },
   "outputs": [],
   "source": [
    "# crosstab crosstable with row percentages 行百分比 列联表\n",
    "d = pd.crosstab(tbr.家庭人口数, tbr.结局复发).apply(lambda r: r/r.sum(), axis=1)"
   ]
  },
  {
   "cell_type": "code",
   "execution_count": 48,
   "metadata": {
    "collapsed": false
   },
   "outputs": [
    {
     "data": {
      "text/plain": [
       "<matplotlib.axes._subplots.AxesSubplot at 0x1160412b0>"
      ]
     },
     "execution_count": 48,
     "metadata": {},
     "output_type": "execute_result"
    }
   ],
   "source": [
    "d.复发.plot(kind='bar', rot=0)"
   ]
  },
  {
   "cell_type": "code",
   "execution_count": 49,
   "metadata": {
    "collapsed": false,
    "scrolled": true
   },
   "outputs": [],
   "source": [
    "# 文化程度 重新分类\n",
    "tbr.文化程度.value_counts()\n",
    "tbr.文化程度 = tbr.文化程度.replace({'文盲':'小学及以下','小学':'小学及以下'})"
   ]
  },
  {
   "cell_type": "code",
   "execution_count": 50,
   "metadata": {
    "collapsed": false
   },
   "outputs": [],
   "source": [
    "# 职业 重新分类\n",
    "tbr.职业 = tbr.职业.replace({'国家机关及事业单位工作者':'其它',\n",
    "                         '教育工作者':'其它',\n",
    "                         '医疗卫生人员':'其它',\n",
    "                        '离退休人员':'其它',\n",
    "                        'Unknown':'其它',\n",
    "                        '学生':'其它',\n",
    "                        '交通运输业人员':'其它',\n",
    "                        })"
   ]
  },
  {
   "cell_type": "code",
   "execution_count": 51,
   "metadata": {
    "collapsed": true
   },
   "outputs": [],
   "source": [
    "# 婚姻状况 重新分类\n",
    "tbr.婚姻状况 = tbr.婚姻状况.replace('其它','Unknown')"
   ]
  },
  {
   "cell_type": "code",
   "execution_count": 52,
   "metadata": {
    "collapsed": true
   },
   "outputs": [],
   "source": [
    "# 户籍类型 重新分类\n",
    "tbr.户籍类型 = tbr.户籍类型.replace({'非本地0-3mo':'非本地一年内',\n",
    "                            '非本地4-6mo':'非本地一年内',\n",
    "                            '非本地6-12mo':'非本地一年内',\n",
    "                            '非本地12mo以上':'非本地一年以上'})"
   ]
  },
  {
   "cell_type": "code",
   "execution_count": 53,
   "metadata": {
    "collapsed": false
   },
   "outputs": [],
   "source": [
    "# 医疗费用支出类型 重新分类\n",
    "tbr.医疗费用支出类型 = tbr.医疗费用支出类型.replace('其它','Unknown')"
   ]
  },
  {
   "cell_type": "code",
   "execution_count": 54,
   "metadata": {
    "collapsed": false
   },
   "outputs": [
    {
     "data": {
      "text/plain": [
       "128    0.0\n",
       "47     0.0\n",
       "214    0.0\n",
       "Name: 血红蛋白, dtype: float64"
      ]
     },
     "execution_count": 54,
     "metadata": {},
     "output_type": "execute_result"
    }
   ],
   "source": [
    "# 离散化 血红蛋白 Discretization and binning \n",
    "tbr[tbr.血红蛋白 == 'Unknown']\n",
    "tbr.ix[166]\n",
    "tbr.loc[tbr.血红蛋白 == 'Unknown','血红蛋白']=133\n",
    "tbr.血红蛋白.astype(float).describe()\n",
    "tbr.血红蛋白.astype(float).sort_values()[:3]"
   ]
  },
  {
   "cell_type": "code",
   "execution_count": 55,
   "metadata": {
    "collapsed": false,
    "scrolled": true
   },
   "outputs": [
    {
     "data": {
      "text/plain": [
       "110-160    192\n",
       "87-110      34\n",
       "Unknown     18\n",
       "160-         9\n",
       "Name: HGB, dtype: int64"
      ]
     },
     "execution_count": 55,
     "metadata": {},
     "output_type": "execute_result"
    }
   ],
   "source": [
    "# 离散化 血红蛋白 Discretization and binning \n",
    "tbr['HGB'] = pd.cut(tbr.血红蛋白,[-1,13,110,160,178],labels=['Unknown','87-110','110-160','160-'])\n",
    "tbr['HGB'].value_counts()"
   ]
  },
  {
   "cell_type": "code",
   "execution_count": 56,
   "metadata": {
    "collapsed": false,
    "scrolled": false
   },
   "outputs": [
    {
     "data": {
      "text/html": [
       "<div>\n",
       "<table border=\"1\" class=\"dataframe\">\n",
       "  <thead>\n",
       "    <tr style=\"text-align: right;\">\n",
       "      <th></th>\n",
       "      <th>HGB</th>\n",
       "      <th>血红蛋白</th>\n",
       "    </tr>\n",
       "  </thead>\n",
       "  <tbody>\n",
       "    <tr>\n",
       "      <th>128</th>\n",
       "      <td>Unknown</td>\n",
       "      <td>0</td>\n",
       "    </tr>\n",
       "    <tr>\n",
       "      <th>47</th>\n",
       "      <td>Unknown</td>\n",
       "      <td>0</td>\n",
       "    </tr>\n",
       "  </tbody>\n",
       "</table>\n",
       "</div>"
      ],
      "text/plain": [
       "         HGB 血红蛋白\n",
       "128  Unknown    0\n",
       "47   Unknown    0"
      ]
     },
     "execution_count": 56,
     "metadata": {},
     "output_type": "execute_result"
    }
   ],
   "source": [
    "tbr[['HGB','血红蛋白']].sort_values(by='血红蛋白')[:2]"
   ]
  },
  {
   "cell_type": "code",
   "execution_count": 57,
   "metadata": {
    "collapsed": false
   },
   "outputs": [],
   "source": [
    "# 离散化 BMI\n",
    "tbr.BMI = pd.cut(tbr.BMI, [0,18.5,23,29.1],right = False, labels=['0-18.5','18.5-23','23-29']) "
   ]
  },
  {
   "cell_type": "code",
   "execution_count": 58,
   "metadata": {
    "collapsed": false
   },
   "outputs": [
    {
     "data": {
      "text/plain": [
       "18.5-23    149\n",
       "0-18.5      73\n",
       "23-29       31\n",
       "Name: BMI, dtype: int64"
      ]
     },
     "execution_count": 58,
     "metadata": {},
     "output_type": "execute_result"
    }
   ],
   "source": [
    "tbr.BMI.value_counts()"
   ]
  },
  {
   "cell_type": "code",
   "execution_count": 59,
   "metadata": {
    "collapsed": false,
    "scrolled": false
   },
   "outputs": [
    {
     "data": {
      "text/plain": [
       "1          130\n",
       "Unknown     71\n",
       ">=3         29\n",
       "2           23\n",
       "Name: neg_conv_mo, dtype: int64"
      ]
     },
     "execution_count": 59,
     "metadata": {},
     "output_type": "execute_result"
    }
   ],
   "source": [
    "# 阴转月份 重新分类\n",
    "tbr.转阴月份.value_counts()\n",
    "tbr['neg_conv_mo'] = tbr.转阴月份.replace({3:'>=3',4:'>=3',5:'>=3',6:'>=3',0:'1',1:'1'})\n",
    "tbr['neg_conv_mo'].value_counts()"
   ]
  },
  {
   "cell_type": "code",
   "execution_count": 60,
   "metadata": {
    "collapsed": false
   },
   "outputs": [],
   "source": [
    "tbr.复治次数.value_counts()\n",
    "tbr.复治次数 = tbr.复治次数.replace({3:'大于等于2',2:'大于等于2',1:'1'})"
   ]
  },
  {
   "cell_type": "code",
   "execution_count": 61,
   "metadata": {
    "collapsed": false
   },
   "outputs": [
    {
     "data": {
      "text/plain": [
       "1          21\n",
       "2          73\n",
       "3          47\n",
       "4          50\n",
       "5          26\n",
       "6          34\n",
       "Unknown     2\n",
       "Name: X肺野数, dtype: int64"
      ]
     },
     "execution_count": 61,
     "metadata": {},
     "output_type": "execute_result"
    }
   ],
   "source": [
    "tbr.X肺野数.value_counts(sort=False)"
   ]
  },
  {
   "cell_type": "code",
   "execution_count": 62,
   "metadata": {
    "collapsed": false,
    "scrolled": false
   },
   "outputs": [
    {
     "data": {
      "text/plain": [
       "Index(['结局复发', 'Group', '文化程度', '职业', '婚姻状况', '户籍类型', '家庭人口数', '吸烟状况', '饮酒状况',\n",
       "       '医疗费用支出类型', '血红蛋白', '性别', '年龄', 'BMI', '转阴月份', '复治次数', '登记分类', 'X肺野数',\n",
       "       'X线', '空洞', '耐药情况', 'Age', 'HGB', 'neg_conv_mo'],\n",
       "      dtype='object')"
      ]
     },
     "execution_count": 62,
     "metadata": {},
     "output_type": "execute_result"
    }
   ],
   "source": [
    "tbr.columns"
   ]
  },
  {
   "cell_type": "code",
   "execution_count": 63,
   "metadata": {
    "collapsed": false,
    "scrolled": true
   },
   "outputs": [
    {
     "data": {
      "text/html": [
       "<div>\n",
       "<table border=\"1\" class=\"dataframe\">\n",
       "  <thead>\n",
       "    <tr style=\"text-align: right;\">\n",
       "      <th>结局复发</th>\n",
       "      <th>复发</th>\n",
       "      <th>未复发</th>\n",
       "      <th>All</th>\n",
       "    </tr>\n",
       "    <tr>\n",
       "      <th>HGB</th>\n",
       "      <th></th>\n",
       "      <th></th>\n",
       "      <th></th>\n",
       "    </tr>\n",
       "  </thead>\n",
       "  <tbody>\n",
       "    <tr>\n",
       "      <th>160-</th>\n",
       "      <td>1</td>\n",
       "      <td>8</td>\n",
       "      <td>9</td>\n",
       "    </tr>\n",
       "    <tr>\n",
       "      <th>Unknown</th>\n",
       "      <td>2</td>\n",
       "      <td>16</td>\n",
       "      <td>18</td>\n",
       "    </tr>\n",
       "    <tr>\n",
       "      <th>87-110</th>\n",
       "      <td>3</td>\n",
       "      <td>31</td>\n",
       "      <td>34</td>\n",
       "    </tr>\n",
       "    <tr>\n",
       "      <th>110-160</th>\n",
       "      <td>10</td>\n",
       "      <td>182</td>\n",
       "      <td>192</td>\n",
       "    </tr>\n",
       "    <tr>\n",
       "      <th>All</th>\n",
       "      <td>16</td>\n",
       "      <td>237</td>\n",
       "      <td>253</td>\n",
       "    </tr>\n",
       "  </tbody>\n",
       "</table>\n",
       "</div>"
      ],
      "text/plain": [
       "结局复发     复发  未复发  All\n",
       "HGB                  \n",
       "160-      1    8    9\n",
       "Unknown   2   16   18\n",
       "87-110    3   31   34\n",
       "110-160  10  182  192\n",
       "All      16  237  253"
      ]
     },
     "execution_count": 63,
     "metadata": {},
     "output_type": "execute_result"
    }
   ],
   "source": [
    "pd.crosstab(tbr.HGB, tbr.结局复发, margins=True).sort_values(by='复发')"
   ]
  },
  {
   "cell_type": "code",
   "execution_count": 64,
   "metadata": {
    "collapsed": false,
    "scrolled": true
   },
   "outputs": [
    {
     "data": {
      "text/html": [
       "<div>\n",
       "<table border=\"1\" class=\"dataframe\">\n",
       "  <thead>\n",
       "    <tr style=\"text-align: right;\">\n",
       "      <th>结局复发</th>\n",
       "      <th>复发</th>\n",
       "      <th>未复发</th>\n",
       "    </tr>\n",
       "    <tr>\n",
       "      <th>HGB</th>\n",
       "      <th></th>\n",
       "      <th></th>\n",
       "    </tr>\n",
       "  </thead>\n",
       "  <tbody>\n",
       "    <tr>\n",
       "      <th>110-160</th>\n",
       "      <td>0.052083</td>\n",
       "      <td>0.947917</td>\n",
       "    </tr>\n",
       "    <tr>\n",
       "      <th>87-110</th>\n",
       "      <td>0.088235</td>\n",
       "      <td>0.911765</td>\n",
       "    </tr>\n",
       "    <tr>\n",
       "      <th>Unknown</th>\n",
       "      <td>0.111111</td>\n",
       "      <td>0.888889</td>\n",
       "    </tr>\n",
       "    <tr>\n",
       "      <th>160-</th>\n",
       "      <td>0.111111</td>\n",
       "      <td>0.888889</td>\n",
       "    </tr>\n",
       "  </tbody>\n",
       "</table>\n",
       "</div>"
      ],
      "text/plain": [
       "结局复发           复发       未复发\n",
       "HGB                        \n",
       "110-160  0.052083  0.947917\n",
       "87-110   0.088235  0.911765\n",
       "Unknown  0.111111  0.888889\n",
       "160-     0.111111  0.888889"
      ]
     },
     "execution_count": 64,
     "metadata": {},
     "output_type": "execute_result"
    }
   ],
   "source": [
    "pd.crosstab(tbr.HGB, tbr.结局复发).apply(lambda r: r/r.sum(), axis=1).sort_values(by='复发')"
   ]
  },
  {
   "cell_type": "code",
   "execution_count": 65,
   "metadata": {
    "collapsed": false
   },
   "outputs": [
    {
     "data": {
      "text/plain": [
       "'/Users/zhangle/AnacondaProjects'"
      ]
     },
     "execution_count": 65,
     "metadata": {},
     "output_type": "execute_result"
    }
   ],
   "source": [
    "os.getcwd()"
   ]
  },
  {
   "cell_type": "code",
   "execution_count": 66,
   "metadata": {
    "collapsed": true
   },
   "outputs": [],
   "source": [
    "tbr.to_excel('/Users/zhangle/百度云同步盘/工作/tbRCT/tbr.xlsx')"
   ]
  },
  {
   "cell_type": "code",
   "execution_count": 67,
   "metadata": {
    "collapsed": true
   },
   "outputs": [],
   "source": [
    "tb=pd.read_excel('/Users/zhangle/百度云同步盘/工作/tbRCT/tbr.xlsx')"
   ]
  },
  {
   "cell_type": "code",
   "execution_count": 70,
   "metadata": {
    "collapsed": true
   },
   "outputs": [],
   "source": [
    "tbr.to_csv('/Users/zhangle/百度云同步盘/工作/tbRCT/tbr.csv')"
   ]
  },
  {
   "cell_type": "code",
   "execution_count": null,
   "metadata": {
    "collapsed": true
   },
   "outputs": [],
   "source": []
  },
  {
   "cell_type": "code",
   "execution_count": null,
   "metadata": {
    "collapsed": true
   },
   "outputs": [],
   "source": []
  },
  {
   "cell_type": "code",
   "execution_count": null,
   "metadata": {
    "collapsed": true
   },
   "outputs": [],
   "source": []
  },
  {
   "cell_type": "markdown",
   "metadata": {},
   "source": [
    "# XGBoost"
   ]
  },
  {
   "cell_type": "code",
   "execution_count": 65,
   "metadata": {
    "collapsed": false
   },
   "outputs": [],
   "source": [
    "# 选取 过滤 subset\n",
    "# 把 X y 分开\n",
    "X = tbr.ix[:,'Group':'neg_conv_mo']\n",
    "Y = tbr.ix[:,'结局复发']\n",
    "y = (Y =='复发').astype(int)\n",
    "# X = X.drop(['家庭人口数','血红蛋白','年龄','转阴月份','neg_conv_mo','X肺野数','X线'], axis=1)\n",
    "X = X.drop(['血红蛋白','年龄','转阴月份'], axis=1)"
   ]
  },
  {
   "cell_type": "code",
   "execution_count": 66,
   "metadata": {
    "collapsed": false,
    "scrolled": true
   },
   "outputs": [
    {
     "data": {
      "text/plain": [
       "(16, (253, 20))"
      ]
     },
     "execution_count": 66,
     "metadata": {},
     "output_type": "execute_result"
    }
   ],
   "source": [
    "y.sum(), X.shape"
   ]
  },
  {
   "cell_type": "code",
   "execution_count": 67,
   "metadata": {
    "collapsed": false
   },
   "outputs": [],
   "source": [
    "for c in ['Group', '文化程度', '职业', '婚姻状况', '户籍类型', '吸烟状况', '饮酒状况', '医疗费用支出类型', '性别',\n",
    "       'BMI', '复治次数', '登记分类', '空洞', '耐药情况', 'Age', 'HGB', '家庭人口数','neg_conv_mo','X肺野数','X线']:\n",
    "  X[c] = X[c].astype(str)"
   ]
  },
  {
   "cell_type": "code",
   "execution_count": 68,
   "metadata": {
    "collapsed": false
   },
   "outputs": [],
   "source": [
    "# 所有变量 都变成 哑变量\n",
    "X = pd.get_dummies(X)"
   ]
  },
  {
   "cell_type": "code",
   "execution_count": 69,
   "metadata": {
    "collapsed": false
   },
   "outputs": [],
   "source": [
    "# 切分训练集和数据集\n",
    "# /换行\n",
    "test_size = 0.25\n",
    "X_train, X_test, y_train, y_test = model_selection.train_test_split\\\n",
    "(X,y,test_size=test_size,random_state=42)"
   ]
  },
  {
   "cell_type": "code",
   "execution_count": 70,
   "metadata": {
    "collapsed": false
   },
   "outputs": [
    {
     "data": {
      "text/plain": [
       "((189, 82), (64, 82))"
      ]
     },
     "execution_count": 70,
     "metadata": {},
     "output_type": "execute_result"
    }
   ],
   "source": [
    "# 查看 DataFrame X_train X_test\n",
    "X_train.shape, X_test.shape"
   ]
  },
  {
   "cell_type": "code",
   "execution_count": 71,
   "metadata": {
    "collapsed": false,
    "scrolled": false
   },
   "outputs": [
    {
     "data": {
      "text/plain": [
       "XGBClassifier(base_score=0.5, colsample_bylevel=1, colsample_bytree=0.8,\n",
       "       gamma=0, learning_rate=0.01, max_delta_step=10, max_depth=4,\n",
       "       min_child_weight=10, missing=None, n_estimators=500, nthread=-1,\n",
       "       objective='binary:logistic', reg_alpha=0.005, reg_lambda=1,\n",
       "       scale_pos_weight=1, seed=0, silent=True, subsample=0.8)"
      ]
     },
     "execution_count": 71,
     "metadata": {},
     "output_type": "execute_result"
    }
   ],
   "source": [
    "#训练模型\n",
    "model = xgboost.XGBClassifier(min_child_weight= 10, subsample=0.8, colsample_bytree = 0.8, \n",
    "                              max_delta_step= 10, scale_pos_weight =1, max_depth=4, \n",
    "                              objective = 'binary:logistic', learning_rate=0.01,\n",
    "                              n_estimators=500, reg_alpha=0.005)\n",
    "model.fit(X_train, y_train)"
   ]
  },
  {
   "cell_type": "markdown",
   "metadata": {},
   "source": [
    "#### XGBoost 调参\n",
    "    # base_score: the initial prediction score of all instances, global bias\n",
    "    # colsample_bylevel: 决定每次节点划分时子样例的比例。通常不使用，因为subsample和colsample_bytree已经可以起到相同的作用了\n",
    "    # colsample_bytree: 在建立树时对特征随机采样的比例, 在建立树时对特征随机采样的比例。缺省值为1\n",
    "    # gamma: 模型在默认情况下，对于一个节点的划分只有在其loss function得到结果大于0的情况下才进行，而gamma给定了所需的最低loss function的值。gamma值使得算法更conservation，且其值依赖于loss function，在模型中应该进行调参。\n",
    "    # learning_rate\n",
    "    # max_delta_step: 通常不需要设置这个值，但在使用logistics 回归时，若类别极度不平衡，调高该参数可能有效果Set it to value of 1-10\n",
    "    # max_depth: 树的最大深度，树的深度越大，则对数据的拟合程度越高过拟合程度也越高。即该参数也是控制过拟合，建议通过交叉验证（xgb.cv)进行调参，通常取值3-10\n",
    "    # min_child_weight: 孩子节点中最小的样本权重和。如果一个叶子节点的样本权重和小于min_child_weight，则拆分过程结束。在现行回归模型中，这个参数是指建立每个模型所需要的最小样本数。该成熟越大算法越conservative。即调大这个参数能够控制过拟合。\n",
    "    # n_estimators 树的个数\n",
    "    # nthread: XGBoost运行时的线程数,缺省值是当前系统可以获得的最大线程数,可不调\n",
    "    # objective: 定义学习任务及相应的学习目标，可选的目标函数如下:\n",
    "        “reg:linear” 线性回归\n",
    "        “reg:logistic” 逻辑回归\n",
    "        “binary:logistic” 二分类的逻辑回归问题，输出为概率\n",
    "        “binary:logitraw” 二分类的逻辑回归问题，输出的结果为wTx\n",
    "        “count:poisson” 计数问题的poisson回归，输出结果为poisson分布，在poisson回归中，max_delta_step的缺省值为0.7\n",
    "        “multi:softmax” 让XGBoost采用softmax目标函数处理多分类问题，同时需要设置参数num_class（类别个数）\n",
    "        “multi:softprob” 和softmax一样，但是输出的是ndata * nclass的向量，可以将该向量reshape成ndata行nclass列的矩阵。每行数据表示样本所属于每个类别的概率。\n",
    "        \"rank:pairwise\" set XGBoost to do ranking task by minimizing the pairwise loss\n",
    "    # reg_alpha: L2 正则的惩罚系数，用于处理XGBoost的正则化部分。通常不使用，但可以用来降低过拟合\n",
    "    # reg_lambda: L1 正则的惩罚系数，当数据维度极高时可以使用，使得算法运行更快。\n",
    "    # scale_pos_weight: 大于0的取值可以处理类别不平衡的情况。帮助模型更快收敛\n",
    "    # subsample: 用于训练模型的子样本占整个样本集合的比例。如果设置为0.5则意味着XGBoost将随机的从整个样本集合中抽取出50%的子样本建立树模型，这能够防止过拟合。"
   ]
  },
  {
   "cell_type": "code",
   "execution_count": 72,
   "metadata": {
    "collapsed": false,
    "scrolled": true
   },
   "outputs": [
    {
     "name": "stdout",
     "output_type": "stream",
     "text": [
      "Accuracy: 89.06%\n"
     ]
    },
    {
     "data": {
      "text/html": [
       "<div>\n",
       "<table border=\"1\" class=\"dataframe\">\n",
       "  <thead>\n",
       "    <tr style=\"text-align: right;\">\n",
       "      <th>预测值</th>\n",
       "      <th>未复发</th>\n",
       "    </tr>\n",
       "    <tr>\n",
       "      <th>真实值</th>\n",
       "      <th></th>\n",
       "    </tr>\n",
       "  </thead>\n",
       "  <tbody>\n",
       "    <tr>\n",
       "      <th>复发</th>\n",
       "      <td>7</td>\n",
       "    </tr>\n",
       "    <tr>\n",
       "      <th>未复发</th>\n",
       "      <td>57</td>\n",
       "    </tr>\n",
       "  </tbody>\n",
       "</table>\n",
       "</div>"
      ],
      "text/plain": [
       "预测值  未复发\n",
       "真实值     \n",
       "复发     7\n",
       "未复发   57"
      ]
     },
     "execution_count": 72,
     "metadata": {},
     "output_type": "execute_result"
    }
   ],
   "source": [
    "# 做预测\n",
    "y_pred = model.predict(X_test)\n",
    "predictions=y_pred.astype(str)\n",
    "predictions[predictions=='0']='未复发'\n",
    "predictions[predictions=='1']='复发'\n",
    "\n",
    "# 显示准群率\n",
    "accuracy = accuracy_score(y_test, y_pred)\n",
    "print('Accuracy: %.2f%%' % (accuracy * 100.0))\n",
    "\n",
    "# Confusion matrix\n",
    "map_dict_recurrence = {0:'未复发', 1:'复发'}\n",
    "pd.crosstab(y_test.map(map_dict_recurrence), predictions, \n",
    "            rownames=['真实值'], colnames=['预测值'])"
   ]
  },
  {
   "cell_type": "code",
   "execution_count": 73,
   "metadata": {
    "collapsed": false
   },
   "outputs": [
    {
     "data": {
      "text/plain": [
       "5.53338948872752"
      ]
     },
     "execution_count": 73,
     "metadata": {},
     "output_type": "execute_result"
    }
   ],
   "source": [
    "import math \n",
    "math.log(253)"
   ]
  },
  {
   "cell_type": "markdown",
   "metadata": {},
   "source": [
    "  "
   ]
  },
  {
   "cell_type": "markdown",
   "metadata": {},
   "source": [
    "# 决策树"
   ]
  },
  {
   "cell_type": "code",
   "execution_count": 74,
   "metadata": {
    "collapsed": false
   },
   "outputs": [
    {
     "name": "stdout",
     "output_type": "stream",
     "text": [
      "准确率为：0.89\n"
     ]
    }
   ],
   "source": [
    "from sklearn import tree\n",
    "clf = tree.DecisionTreeClassifier(criterion='entropy', max_depth=3,min_samples_leaf=5)\n",
    "clf = clf.fit(X_train,y_train)\n",
    "print (\"准确率为：{:.2f}\".format(clf.score(X_test,y_test)))"
   ]
  },
  {
   "cell_type": "code",
   "execution_count": 75,
   "metadata": {
    "collapsed": false,
    "scrolled": false
   },
   "outputs": [
    {
     "name": "stdout",
     "output_type": "stream",
     "text": [
      "Accuracy:0.891 \n",
      "\n",
      "Classification report\n",
      "             precision    recall  f1-score   support\n",
      "\n",
      "          0       0.89      1.00      0.94        57\n",
      "          1       0.00      0.00      0.00         7\n",
      "\n",
      "avg / total       0.79      0.89      0.84        64\n",
      " \n",
      "\n",
      "Confusion matrix\n",
      "[[57  0]\n",
      " [ 7  0]] \n",
      "\n"
     ]
    },
    {
     "name": "stderr",
     "output_type": "stream",
     "text": [
      "/Users/zhangle/anaconda3/lib/python3.6/site-packages/sklearn/metrics/classification.py:1113: UndefinedMetricWarning: Precision and F-score are ill-defined and being set to 0.0 in labels with no predicted samples.\n",
      "  'precision', 'predicted', average, warn_for)\n"
     ]
    }
   ],
   "source": [
    "from sklearn import metrics\n",
    "def measure_performance(X,y,clf, show_accuracy=True, \n",
    "                        show_classification_report=True, \n",
    "                        show_confusion_matrix=True):\n",
    "    y_pred=clf.predict(X_test)   \n",
    "    if show_accuracy:\n",
    "        print (\"Accuracy:{0:.3f}\".format(metrics.accuracy_score(y_test,y_pred)),\"\\n\")\n",
    "\n",
    "    if show_classification_report:\n",
    "        print (\"Classification report\")\n",
    "        print (metrics.classification_report(y_test,y_pred),\"\\n\")\n",
    "        \n",
    "    if show_confusion_matrix:\n",
    "        print (\"Confusion matrix\")\n",
    "        print (metrics.confusion_matrix(y_test,y_pred),\"\\n\")\n",
    "        \n",
    "measure_performance(X_test,y_test,clf, show_classification_report=True, show_confusion_matrix=True)"
   ]
  },
  {
   "cell_type": "code",
   "execution_count": 76,
   "metadata": {
    "collapsed": false,
    "scrolled": false
   },
   "outputs": [
    {
     "data": {
      "text/html": [
       "<div>\n",
       "<table border=\"1\" class=\"dataframe\">\n",
       "  <thead>\n",
       "    <tr style=\"text-align: right;\">\n",
       "      <th>预测值</th>\n",
       "      <th>0</th>\n",
       "    </tr>\n",
       "    <tr>\n",
       "      <th>真实值</th>\n",
       "      <th></th>\n",
       "    </tr>\n",
       "  </thead>\n",
       "  <tbody>\n",
       "    <tr>\n",
       "      <th>复发</th>\n",
       "      <td>7</td>\n",
       "    </tr>\n",
       "    <tr>\n",
       "      <th>未复发</th>\n",
       "      <td>57</td>\n",
       "    </tr>\n",
       "  </tbody>\n",
       "</table>\n",
       "</div>"
      ],
      "text/plain": [
       "预测值   0\n",
       "真实值    \n",
       "复发    7\n",
       "未复发  57"
      ]
     },
     "execution_count": 76,
     "metadata": {},
     "output_type": "execute_result"
    }
   ],
   "source": [
    "y_pred=clf.predict(X_test)   \n",
    "pd.crosstab(y_test.map(map_dict_recurrence), y_pred, \n",
    "            rownames=['真实值'], colnames=['预测值'])"
   ]
  },
  {
   "cell_type": "markdown",
   "metadata": {},
   "source": [
    "  "
   ]
  },
  {
   "cell_type": "markdown",
   "metadata": {},
   "source": [
    " # 随机森林"
   ]
  },
  {
   "cell_type": "code",
   "execution_count": 77,
   "metadata": {
    "collapsed": false
   },
   "outputs": [
    {
     "name": "stdout",
     "output_type": "stream",
     "text": [
      "Populating the interactive namespace from numpy and matplotlib\n"
     ]
    },
    {
     "name": "stderr",
     "output_type": "stream",
     "text": [
      "/Users/zhangle/anaconda3/lib/python3.6/site-packages/IPython/core/magics/pylab.py:161: UserWarning: pylab import has clobbered these variables: ['clf']\n",
      "`%matplotlib` prevents importing * from pylab and numpy\n",
      "  \"\\n`%matplotlib` prevents importing * from pylab and numpy\"\n"
     ]
    }
   ],
   "source": [
    "from sklearn.ensemble import RandomForestClassifier\n",
    "from sklearn.model_selection import cross_val_score\n",
    "%pylab inline"
   ]
  },
  {
   "cell_type": "code",
   "execution_count": 78,
   "metadata": {
    "collapsed": true
   },
   "outputs": [],
   "source": [
    "y_train, _ = pd.factorize(y_train)"
   ]
  },
  {
   "cell_type": "markdown",
   "metadata": {},
   "source": [
    "#### 构建随机森林的关键就是如何选择最优feature个数m，要解决这个问题主要依据计算袋外错误率\n",
    "#####  oob error（out-of-bag error）\n",
    " 我们知道，在构建每棵树时，我们对训练集使用了不同的bootstrap sample（随机且有放回地抽取）。所以对于每棵树而言（假设对于第k棵树），大约有1/3的训练实例没有参与第k棵树的生成，它们称为第k棵树的oob样本。\n",
    "\n",
    "而这样的采样特点就允许我们进行oob估计，它的计算方式如下（note：以样本为单位）\n",
    "\n",
    "　　1）对每个样本，计算它作为oob样本的树对它的分类情况（约1/3的树）；\n",
    "\n",
    "　　2）然后以简单多数投票作为该样本的分类结果；\n",
    "\n",
    "　　3）最后用误分个数占样本总数的比率作为随机森林的oob误分率。\n"
   ]
  },
  {
   "cell_type": "code",
   "execution_count": 79,
   "metadata": {
    "collapsed": false
   },
   "outputs": [],
   "source": [
    "# 取 10% 的feature 做模型，不取所有的var\n",
    "# clf classifier \n",
    "# rfc random forest classifier\n",
    "# -cross_val_score 有个负号\n",
    "#### n_estimator 多少颗树\n",
    "\n",
    "max_features =  [.1, .3, .5, .7, .9 , .99]\n",
    "test_scores = []\n",
    "for max_feat in max_features:\n",
    "    rfc = RandomForestClassifier(n_estimators=200, max_features=max_feat, oob_score=True)\n",
    "    test_score = np.sqrt(-cross_val_score(rfc, X_train, y_train, cv=4, scoring='neg_mean_squared_error'))\n",
    "    test_scores.append(np.mean(test_score))"
   ]
  },
  {
   "cell_type": "code",
   "execution_count": 80,
   "metadata": {
    "collapsed": false
   },
   "outputs": [
    {
     "data": {
      "text/plain": [
       "RandomForestClassifier(bootstrap=True, class_weight=None, criterion='gini',\n",
       "            max_depth=None, max_features=0.99, max_leaf_nodes=None,\n",
       "            min_impurity_split=1e-07, min_samples_leaf=1,\n",
       "            min_samples_split=2, min_weight_fraction_leaf=0.0,\n",
       "            n_estimators=200, n_jobs=1, oob_score=True, random_state=None,\n",
       "            verbose=0, warm_start=False)"
      ]
     },
     "execution_count": 80,
     "metadata": {},
     "output_type": "execute_result"
    }
   ],
   "source": [
    "rfc"
   ]
  },
  {
   "cell_type": "code",
   "execution_count": 81,
   "metadata": {
    "collapsed": false,
    "scrolled": true
   },
   "outputs": [
    {
     "data": {
      "text/plain": [
       "<matplotlib.text.Text at 0x10dda3c18>"
      ]
     },
     "execution_count": 81,
     "metadata": {},
     "output_type": "execute_result"
    },
    {
     "data": {
      "image/png": "[encoded data removed]",
      "text/plain": [
       "<matplotlib.figure.Figure at 0x10eb2cd68>"
      ]
     },
     "metadata": {},
     "output_type": "display_data"
    }
   ],
   "source": [
    "plt.plot(max_features, test_scores)\n",
    "plt.title('Max Features vs CV Error')"
   ]
  },
  {
   "cell_type": "code",
   "execution_count": 82,
   "metadata": {
    "collapsed": false
   },
   "outputs": [
    {
     "data": {
      "text/plain": [
       "array([  0.525,  10.5  ])"
      ]
     },
     "execution_count": 82,
     "metadata": {},
     "output_type": "execute_result"
    }
   ],
   "source": [
    "from sklearn.utils import class_weight\n",
    "class_weight = class_weight.compute_class_weight('balanced', np.unique(y_train), y_train)\n",
    "class_weight"
   ]
  },
  {
   "cell_type": "code",
   "execution_count": 83,
   "metadata": {
    "collapsed": false,
    "scrolled": true
   },
   "outputs": [],
   "source": [
    "rfc = RandomForestClassifier(n_estimators=200, max_features=4, oob_score=True)\n",
    "model = rfc.fit(X_train, y_train)"
   ]
  },
  {
   "cell_type": "code",
   "execution_count": 84,
   "metadata": {
    "collapsed": false
   },
   "outputs": [
    {
     "data": {
      "text/plain": [
       "0.95238095238095233"
      ]
     },
     "execution_count": 84,
     "metadata": {},
     "output_type": "execute_result"
    }
   ],
   "source": [
    "# 使用 OOB (out of band) 来对模型的精确度进行评估.\n",
    "rfc.oob_score_"
   ]
  },
  {
   "cell_type": "code",
   "execution_count": 85,
   "metadata": {
    "collapsed": false
   },
   "outputs": [
    {
     "name": "stdout",
     "output_type": "stream",
     "text": [
      "准确率为：0.89\n"
     ]
    }
   ],
   "source": [
    "print (\"准确率为：{:.2f}\".format(rfc.score(X_test,y_test)))"
   ]
  },
  {
   "cell_type": "code",
   "execution_count": 86,
   "metadata": {
    "collapsed": true
   },
   "outputs": [],
   "source": [
    "y_pred=model.predict(X_test) \n",
    "predictions=y_pred.astype(str)\n",
    "predictions[predictions=='0']='未复发'\n",
    "predictions[predictions=='1']='复发'"
   ]
  },
  {
   "cell_type": "code",
   "execution_count": 87,
   "metadata": {
    "collapsed": false,
    "scrolled": true
   },
   "outputs": [
    {
     "data": {
      "text/html": [
       "<div>\n",
       "<table border=\"1\" class=\"dataframe\">\n",
       "  <thead>\n",
       "    <tr style=\"text-align: right;\">\n",
       "      <th>预测值</th>\n",
       "      <th>未复发</th>\n",
       "    </tr>\n",
       "    <tr>\n",
       "      <th>真实值</th>\n",
       "      <th></th>\n",
       "    </tr>\n",
       "  </thead>\n",
       "  <tbody>\n",
       "    <tr>\n",
       "      <th>复发</th>\n",
       "      <td>7</td>\n",
       "    </tr>\n",
       "    <tr>\n",
       "      <th>未复发</th>\n",
       "      <td>57</td>\n",
       "    </tr>\n",
       "  </tbody>\n",
       "</table>\n",
       "</div>"
      ],
      "text/plain": [
       "预测值  未复发\n",
       "真实值     \n",
       "复发     7\n",
       "未复发   57"
      ]
     },
     "execution_count": 87,
     "metadata": {},
     "output_type": "execute_result"
    }
   ],
   "source": [
    "map_dict_recurrence = {0:'未复发', 1:'复发'}\n",
    "pd.crosstab(y_test.map(map_dict_recurrence), predictions, \n",
    "            rownames=['真实值'], colnames=['预测值'])"
   ]
  },
  {
   "cell_type": "markdown",
   "metadata": {},
   "source": [
    "# Ensemble\n",
    "#### 多个classifer分类器组合"
   ]
  },
  {
   "cell_type": "code",
   "execution_count": null,
   "metadata": {
    "collapsed": true
   },
   "outputs": [],
   "source": []
  },
  {
   "cell_type": "markdown",
   "metadata": {},
   "source": [
    "# SMOTE 合成少数类过采样技术+ XGBoost\n",
    "#### Synthetic Minority Oversampling Technique"
   ]
  },
  {
   "cell_type": "code",
   "execution_count": 88,
   "metadata": {
    "collapsed": true
   },
   "outputs": [],
   "source": [
    "from collections import Counter\n",
    "from sklearn.datasets import make_classification\n",
    "from imblearn.over_sampling import SMOTE"
   ]
  },
  {
   "cell_type": "code",
   "execution_count": 89,
   "metadata": {
    "collapsed": false,
    "scrolled": true
   },
   "outputs": [
    {
     "name": "stdout",
     "output_type": "stream",
     "text": [
      "Original dataset shape Counter({0: 237, 1: 16})\n"
     ]
    }
   ],
   "source": [
    "# the dataset\n",
    "print('Original dataset shape {}'.format(Counter(y)))"
   ]
  },
  {
   "cell_type": "code",
   "execution_count": 90,
   "metadata": {
    "collapsed": false,
    "scrolled": true
   },
   "outputs": [
    {
     "name": "stdout",
     "output_type": "stream",
     "text": [
      "Resampled dataset shape Counter({0: 180, 1: 180})\n"
     ]
    }
   ],
   "source": [
    "# Apply the SMOTE over−sampling\n",
    "sm = SMOTE(random_state=42, ratio='all', k_neighbors=2, m_neighbors=10, kind='regular')\n",
    "X_train_resampled, y_train_resampled = sm.fit_sample(X_train.values, y_train)\n",
    "print('Resampled dataset shape {}'.format(Counter(y_train_resampled)))"
   ]
  },
  {
   "cell_type": "code",
   "execution_count": 91,
   "metadata": {
    "collapsed": false,
    "scrolled": false
   },
   "outputs": [
    {
     "data": {
      "text/plain": [
       "XGBClassifier(base_score=0.5, colsample_bylevel=1, colsample_bytree=1,\n",
       "       gamma=0, learning_rate=0.1, max_delta_step=0, max_depth=3,\n",
       "       min_child_weight=1, missing=None, n_estimators=100, nthread=-1,\n",
       "       objective='binary:logistic', reg_alpha=0, reg_lambda=1,\n",
       "       scale_pos_weight=1, seed=0, silent=True, subsample=1)"
      ]
     },
     "execution_count": 91,
     "metadata": {},
     "output_type": "execute_result"
    }
   ],
   "source": [
    "#训练模型\n",
    "model = xgboost.XGBClassifier()\n",
    "model.fit(X_train_resampled, y_train_resampled)"
   ]
  },
  {
   "cell_type": "code",
   "execution_count": 92,
   "metadata": {
    "collapsed": false,
    "scrolled": true
   },
   "outputs": [
    {
     "name": "stdout",
     "output_type": "stream",
     "text": [
      "Accuracy: 87.50%\n"
     ]
    },
    {
     "data": {
      "text/html": [
       "<div>\n",
       "<table border=\"1\" class=\"dataframe\">\n",
       "  <thead>\n",
       "    <tr style=\"text-align: right;\">\n",
       "      <th>预测值</th>\n",
       "      <th>复发</th>\n",
       "      <th>未复发</th>\n",
       "    </tr>\n",
       "    <tr>\n",
       "      <th>真实值</th>\n",
       "      <th></th>\n",
       "      <th></th>\n",
       "    </tr>\n",
       "  </thead>\n",
       "  <tbody>\n",
       "    <tr>\n",
       "      <th>复发</th>\n",
       "      <td>0</td>\n",
       "      <td>7</td>\n",
       "    </tr>\n",
       "    <tr>\n",
       "      <th>未复发</th>\n",
       "      <td>1</td>\n",
       "      <td>56</td>\n",
       "    </tr>\n",
       "  </tbody>\n",
       "</table>\n",
       "</div>"
      ],
      "text/plain": [
       "预测值  复发  未复发\n",
       "真实值         \n",
       "复发    0    7\n",
       "未复发   1   56"
      ]
     },
     "execution_count": 92,
     "metadata": {},
     "output_type": "execute_result"
    }
   ],
   "source": [
    "# 做预测\n",
    "y_pred = model.predict(X_test.values)\n",
    "predictions=y_pred.astype(str)\n",
    "predictions[predictions=='0']='未复发'\n",
    "predictions[predictions=='1']='复发'\n",
    "\n",
    "# 显示准群率\n",
    "accuracy = accuracy_score(y_test, y_pred)\n",
    "print('Accuracy: %.2f%%' % (accuracy * 100.0))\n",
    "\n",
    "# confusion matrix\n",
    "map_dict_recurrence = {0:'未复发', 1:'复发'}\n",
    "pd.crosstab(pd.Series(y_test).map(map_dict_recurrence), predictions, \n",
    "            rownames=['真实值'], colnames=['预测值'])"
   ]
  },
  {
   "cell_type": "markdown",
   "metadata": {},
   "source": [
    "   "
   ]
  },
  {
   "cell_type": "markdown",
   "metadata": {},
   "source": [
    "# SMOTE 合成少数类过采样技术+ RandomForest"
   ]
  },
  {
   "cell_type": "code",
   "execution_count": 93,
   "metadata": {
    "collapsed": false
   },
   "outputs": [
    {
     "name": "stdout",
     "output_type": "stream",
     "text": [
      "Populating the interactive namespace from numpy and matplotlib\n"
     ]
    }
   ],
   "source": [
    "from sklearn.ensemble import RandomForestClassifier\n",
    "from sklearn.model_selection import cross_val_score\n",
    "%pylab inline"
   ]
  },
  {
   "cell_type": "code",
   "execution_count": 94,
   "metadata": {
    "collapsed": true
   },
   "outputs": [],
   "source": [
    "max_features =  [.1, .3, .5, .7, .9 , .99]\n",
    "test_scores = []\n",
    "for max_feat in max_features:\n",
    "    rfc = RandomForestClassifier(n_estimators=200, max_features=max_feat, oob_score=True)\n",
    "    test_score = np.sqrt(-cross_val_score(rfc, X_train_resampled, y_train_resampled, cv=5, \n",
    "                                          scoring='neg_mean_squared_error'))\n",
    "    test_scores.append(np.mean(test_score))"
   ]
  },
  {
   "cell_type": "code",
   "execution_count": 95,
   "metadata": {
    "collapsed": false
   },
   "outputs": [
    {
     "data": {
      "text/plain": [
       "<matplotlib.text.Text at 0x10f20bfd0>"
      ]
     },
     "execution_count": 95,
     "metadata": {},
     "output_type": "execute_result"
    },
    {
     "data": {
      "image/png": "[encoded data removed]",
      "text/plain": [
       "<matplotlib.figure.Figure at 0x10f1acf60>"
      ]
     },
     "metadata": {},
     "output_type": "display_data"
    }
   ],
   "source": [
    "plt.plot(max_features, test_scores)\n",
    "plt.title('Max Features vs CV Error')"
   ]
  },
  {
   "cell_type": "code",
   "execution_count": 96,
   "metadata": {
    "collapsed": false
   },
   "outputs": [],
   "source": [
    "rfc = RandomForestClassifier(n_estimators=200, max_features=6, oob_score=True)\n",
    "model = rfc.fit(X_train_resampled.astype(uint8), y_train_resampled)"
   ]
  },
  {
   "cell_type": "code",
   "execution_count": 97,
   "metadata": {
    "collapsed": false
   },
   "outputs": [
    {
     "name": "stdout",
     "output_type": "stream",
     "text": [
      "OOB: 0.97\n",
      "准确率为：0.89\n"
     ]
    }
   ],
   "source": [
    "# 使用 OOB (out of band) 来对模型的精确度进行评估.\n",
    "print('OOB: {:.2f}'.format(rfc.oob_score_))\n",
    "# 显示 准确率\n",
    "print (\"准确率为：{:.2f}\".format(rfc.score(X_test,y_test)))"
   ]
  },
  {
   "cell_type": "code",
   "execution_count": 98,
   "metadata": {
    "collapsed": false,
    "scrolled": true
   },
   "outputs": [
    {
     "name": "stdout",
     "output_type": "stream",
     "text": [
      "Accuracy: 89.06%\n"
     ]
    },
    {
     "data": {
      "text/html": [
       "<div>\n",
       "<table border=\"1\" class=\"dataframe\">\n",
       "  <thead>\n",
       "    <tr style=\"text-align: right;\">\n",
       "      <th>预测值</th>\n",
       "      <th>未复发</th>\n",
       "    </tr>\n",
       "    <tr>\n",
       "      <th>真实值</th>\n",
       "      <th></th>\n",
       "    </tr>\n",
       "  </thead>\n",
       "  <tbody>\n",
       "    <tr>\n",
       "      <th>复发</th>\n",
       "      <td>7</td>\n",
       "    </tr>\n",
       "    <tr>\n",
       "      <th>未复发</th>\n",
       "      <td>57</td>\n",
       "    </tr>\n",
       "  </tbody>\n",
       "</table>\n",
       "</div>"
      ],
      "text/plain": [
       "预测值  未复发\n",
       "真实值     \n",
       "复发     7\n",
       "未复发   57"
      ]
     },
     "execution_count": 98,
     "metadata": {},
     "output_type": "execute_result"
    }
   ],
   "source": [
    "y_pred=model.predict(X_test) \n",
    "\n",
    "predictions=y_pred.astype(str)\n",
    "predictions[predictions=='0']='未复发'\n",
    "predictions[predictions=='1']='复发'\n",
    "\n",
    "# 显示准群率\n",
    "accuracy = accuracy_score(y_test, y_pred)\n",
    "print('Accuracy: %.2f%%' % (accuracy * 100.0))\n",
    "\n",
    "# confusion matrix\n",
    "map_dict_recurrence = {0:'未复发', 1:'复发'}\n",
    "pd.crosstab(pd.Series(y_test).map(map_dict_recurrence),predictions, \n",
    "            rownames=['真实值'], colnames=['预测值'])"
   ]
  },
  {
   "cell_type": "markdown",
   "metadata": {},
   "source": [
    "        "
   ]
  },
  {
   "cell_type": "markdown",
   "metadata": {},
   "source": [
    "# SVM 支持向量机"
   ]
  },
  {
   "cell_type": "markdown",
   "metadata": {},
   "source": [
    "##### 支持向量机有两种\n",
    "    1 SVC，支持向量分类，用于分类问题；\n",
    "    2 SVR，支持向量回归，用于回归问题。    "
   ]
  },
  {
   "cell_type": "code",
   "execution_count": 99,
   "metadata": {
    "collapsed": false
   },
   "outputs": [
    {
     "name": "stdout",
     "output_type": "stream",
     "text": [
      "Populating the interactive namespace from numpy and matplotlib\n"
     ]
    }
   ],
   "source": [
    "%pylab inline\n",
    "import pylab as pl\n",
    "from sklearn import svm"
   ]
  },
  {
   "cell_type": "code",
   "execution_count": 100,
   "metadata": {
    "collapsed": false
   },
   "outputs": [],
   "source": [
    "svc = svm.SVC(kernel='linear')\n",
    "model = svc.fit(X_train_resampled, y_train_resampled)"
   ]
  },
  {
   "cell_type": "code",
   "execution_count": 101,
   "metadata": {
    "collapsed": false,
    "scrolled": false
   },
   "outputs": [
    {
     "name": "stdout",
     "output_type": "stream",
     "text": [
      "Accuracy: 89.06%\n"
     ]
    },
    {
     "data": {
      "text/html": [
       "<div>\n",
       "<table border=\"1\" class=\"dataframe\">\n",
       "  <thead>\n",
       "    <tr style=\"text-align: right;\">\n",
       "      <th>预测值</th>\n",
       "      <th>未复发</th>\n",
       "    </tr>\n",
       "    <tr>\n",
       "      <th>真实值</th>\n",
       "      <th></th>\n",
       "    </tr>\n",
       "  </thead>\n",
       "  <tbody>\n",
       "    <tr>\n",
       "      <th>复发</th>\n",
       "      <td>7</td>\n",
       "    </tr>\n",
       "    <tr>\n",
       "      <th>未复发</th>\n",
       "      <td>57</td>\n",
       "    </tr>\n",
       "  </tbody>\n",
       "</table>\n",
       "</div>"
      ],
      "text/plain": [
       "预测值  未复发\n",
       "真实值     \n",
       "复发     7\n",
       "未复发   57"
      ]
     },
     "execution_count": 101,
     "metadata": {},
     "output_type": "execute_result"
    }
   ],
   "source": [
    "y_pred=model.predict(X_test) \n",
    "\n",
    "predictions=y_pred.astype(str)\n",
    "predictions[predictions=='0']='未复发'\n",
    "predictions[predictions=='1']='复发'\n",
    "\n",
    "# 显示准群率\n",
    "accuracy = accuracy_score(y_test, y_pred)\n",
    "print('Accuracy: %.2f%%' % (accuracy * 100.0))\n",
    "\n",
    "# confusion matrix\n",
    "map_dict_recurrence = {0:'未复发', 1:'复发'}\n",
    "pd.crosstab(pd.Series(y_test).map(map_dict_recurrence),predictions, \n",
    "            rownames=['真实值'], colnames=['预测值'])"
   ]
  },
  {
   "cell_type": "markdown",
   "metadata": {},
   "source": [
    " "
   ]
  },
  {
   "cell_type": "markdown",
   "metadata": {},
   "source": [
    "# Logistic 回归"
   ]
  },
  {
   "cell_type": "code",
   "execution_count": 102,
   "metadata": {
    "collapsed": true
   },
   "outputs": [],
   "source": [
    "from  sklearn.linear_model import LogisticRegression"
   ]
  },
  {
   "cell_type": "code",
   "execution_count": 103,
   "metadata": {
    "collapsed": true
   },
   "outputs": [],
   "source": [
    "# 初始化 Logistic Regression\n",
    "lr = LogisticRegression()"
   ]
  },
  {
   "cell_type": "code",
   "execution_count": 104,
   "metadata": {
    "collapsed": false
   },
   "outputs": [],
   "source": [
    "# 调用LogisticRegression中的fit函数/模块来训练模型参数\n",
    "model = lr.fit(X_train_resampled, y_train_resampled)"
   ]
  },
  {
   "cell_type": "code",
   "execution_count": 105,
   "metadata": {
    "collapsed": false
   },
   "outputs": [
    {
     "data": {
      "text/plain": [
       "(Counter({0: 180, 1: 9}), Counter({0: 180, 1: 180}))"
      ]
     },
     "execution_count": 105,
     "metadata": {},
     "output_type": "execute_result"
    }
   ],
   "source": [
    "from collections import Counter\n",
    "Counter(y_train), Counter(y_train_resampled)"
   ]
  },
  {
   "cell_type": "code",
   "execution_count": 106,
   "metadata": {
    "collapsed": false
   },
   "outputs": [
    {
     "data": {
      "text/plain": [
       "((189, 82), (189,))"
      ]
     },
     "execution_count": 106,
     "metadata": {},
     "output_type": "execute_result"
    }
   ],
   "source": [
    "X_train.shape, y_train.shape"
   ]
  },
  {
   "cell_type": "code",
   "execution_count": 107,
   "metadata": {
    "collapsed": false
   },
   "outputs": [
    {
     "name": "stdout",
     "output_type": "stream",
     "text": [
      "Accuracy: 89.06%\n"
     ]
    },
    {
     "data": {
      "text/html": [
       "<div>\n",
       "<table border=\"1\" class=\"dataframe\">\n",
       "  <thead>\n",
       "    <tr style=\"text-align: right;\">\n",
       "      <th>预测值</th>\n",
       "      <th>未复发</th>\n",
       "    </tr>\n",
       "    <tr>\n",
       "      <th>真实值</th>\n",
       "      <th></th>\n",
       "    </tr>\n",
       "  </thead>\n",
       "  <tbody>\n",
       "    <tr>\n",
       "      <th>复发</th>\n",
       "      <td>7</td>\n",
       "    </tr>\n",
       "    <tr>\n",
       "      <th>未复发</th>\n",
       "      <td>57</td>\n",
       "    </tr>\n",
       "  </tbody>\n",
       "</table>\n",
       "</div>"
      ],
      "text/plain": [
       "预测值  未复发\n",
       "真实值     \n",
       "复发     7\n",
       "未复发   57"
      ]
     },
     "execution_count": 107,
     "metadata": {},
     "output_type": "execute_result"
    }
   ],
   "source": [
    "# 预测\n",
    "y_pred=model.predict(X_test) \n",
    "predictions=y_pred.astype(str)\n",
    "predictions[predictions=='0']='未复发'\n",
    "predictions[predictions=='1']='复发'\n",
    "\n",
    "# 显示准群率\n",
    "accuracy = accuracy_score(y_test, y_pred)\n",
    "print('Accuracy: %.2f%%' % (accuracy * 100.0))\n",
    "\n",
    "# confusion matrix\n",
    "map_dict_recurrence = {0:'未复发', 1:'复发'}\n",
    "pd.crosstab(pd.Series(y_test).map(map_dict_recurrence),predictions, \n",
    "            rownames=['真实值'], colnames=['预测值'])"
   ]
  },
  {
   "cell_type": "code",
   "execution_count": 181,
   "metadata": {
    "collapsed": true
   },
   "outputs": [
    {
     "name": "stdout",
     "output_type": "stream",
     "text": [
      "<class 'pandas.core.frame.DataFrame'>\n",
      "Int64Index: 189 entries, 161 to 102\n",
      "Data columns (total 82 columns):\n",
      "Group_个体化组             189 non-null uint8\n",
      "Group_对照组              189 non-null uint8\n",
      "Group_长程组              189 non-null uint8\n",
      "Group_高剂量组             189 non-null uint8\n",
      "文化程度_Unknown           189 non-null uint8\n",
      "文化程度_中学                189 non-null uint8\n",
      "文化程度_大专本科以上            189 non-null uint8\n",
      "文化程度_小学及以下             189 non-null uint8\n",
      "职业_企业职工                189 non-null uint8\n",
      "职业_其它                  189 non-null uint8\n",
      "职业_农民                  189 non-null uint8\n",
      "职业_商业服务人员              189 non-null uint8\n",
      "职业_外来务工人员              189 non-null uint8\n",
      "职业_待业下岗人员              189 non-null uint8\n",
      "婚姻状况_Unknown           189 non-null uint8\n",
      "婚姻状况_已婚                189 non-null uint8\n",
      "婚姻状况_未婚                189 non-null uint8\n",
      "户籍类型_本地户籍              189 non-null uint8\n",
      "户籍类型_非本地一年以上           189 non-null uint8\n",
      "户籍类型_非本地一年内            189 non-null uint8\n",
      "家庭人口数_0.0              189 non-null uint8\n",
      "家庭人口数_1.0              189 non-null uint8\n",
      "家庭人口数_2.0              189 non-null uint8\n",
      "家庭人口数_3.0              189 non-null uint8\n",
      "家庭人口数_4.0              189 non-null uint8\n",
      "家庭人口数_5.0              189 non-null uint8\n",
      "家庭人口数_6.0              189 non-null uint8\n",
      "家庭人口数_7.0              189 non-null uint8\n",
      "家庭人口数_8.0              189 non-null uint8\n",
      "吸烟状况_Unknown           189 non-null uint8\n",
      "吸烟状况_从来不               189 non-null uint8\n",
      "吸烟状况_现在抽               189 non-null uint8\n",
      "吸烟状况_过去抽现在不抽           189 non-null uint8\n",
      "饮酒状况_Unknown           189 non-null uint8\n",
      "饮酒状况_从来不               189 non-null uint8\n",
      "饮酒状况_现在喝               189 non-null uint8\n",
      "饮酒状况_过去喝现在不喝           189 non-null uint8\n",
      "医疗费用支出类型_Unknown       189 non-null uint8\n",
      "医疗费用支出类型_公费医疗          189 non-null uint8\n",
      "医疗费用支出类型_医疗保险          189 non-null uint8\n",
      "医疗费用支出类型_新农村合作医疗       189 non-null uint8\n",
      "医疗费用支出类型_自费            189 non-null uint8\n",
      "性别_女                   189 non-null uint8\n",
      "性别_男                   189 non-null uint8\n",
      "BMI_0-18.5             189 non-null uint8\n",
      "BMI_18.5-23            189 non-null uint8\n",
      "BMI_23-29              189 non-null uint8\n",
      "复治次数_1                 189 non-null uint8\n",
      "复治次数_大于等于2             189 non-null uint8\n",
      "登记分类_其他复治              189 non-null uint8\n",
      "登记分类_初治失败              189 non-null uint8\n",
      "登记分类_复发                189 non-null uint8\n",
      "X肺野数_1                 189 non-null uint8\n",
      "X肺野数_2                 189 non-null uint8\n",
      "X肺野数_3                 189 non-null uint8\n",
      "X肺野数_4                 189 non-null uint8\n",
      "X肺野数_5                 189 non-null uint8\n",
      "X肺野数_6                 189 non-null uint8\n",
      "X肺野数_Unknown           189 non-null uint8\n",
      "X线_不变                  189 non-null uint8\n",
      "X线_吸收                  189 non-null uint8\n",
      "X线_恶化                  189 non-null uint8\n",
      "X线_无记录                 189 non-null uint8\n",
      "空洞_0                   189 non-null uint8\n",
      "空洞_1                   189 non-null uint8\n",
      "空洞_Unknown             189 non-null uint8\n",
      "耐药情况_Unknown           189 non-null uint8\n",
      "耐药情况_单耐                189 non-null uint8\n",
      "耐药情况_多耐                189 non-null uint8\n",
      "耐药情况_敏                 189 non-null uint8\n",
      "Age_0-30               189 non-null uint8\n",
      "Age_30-40              189 non-null uint8\n",
      "Age_40-50              189 non-null uint8\n",
      "Age_50-                189 non-null uint8\n",
      "HGB_110-160            189 non-null uint8\n",
      "HGB_160-               189 non-null uint8\n",
      "HGB_87-110             189 non-null uint8\n",
      "HGB_Unknown            189 non-null uint8\n",
      "neg_conv_mo_1          189 non-null uint8\n",
      "neg_conv_mo_2          189 non-null uint8\n",
      "neg_conv_mo_>=3        189 non-null uint8\n",
      "neg_conv_mo_Unknown    189 non-null uint8\n",
      "dtypes: uint8(82)\n",
      "memory usage: 16.6 KB\n"
     ]
    }
   ],
   "source": [
    "X_train.info()"
   ]
  },
  {
   "cell_type": "markdown",
   "metadata": {},
   "source": [
    "  "
   ]
  },
  {
   "cell_type": "markdown",
   "metadata": {},
   "source": [
    "# 神经网络"
   ]
  },
  {
   "cell_type": "markdown",
   "metadata": {
    "collapsed": true
   },
   "source": [
    " ## BP 神经网络"
   ]
  },
  {
   "cell_type": "code",
   "execution_count": 110,
   "metadata": {
    "collapsed": false
   },
   "outputs": [],
   "source": [
    "from sklearn.datasets import make_moons"
   ]
  },
  {
   "cell_type": "code",
   "execution_count": 111,
   "metadata": {
    "collapsed": true
   },
   "outputs": [],
   "source": [
    "np.random.seed(0)"
   ]
  },
  {
   "cell_type": "code",
   "execution_count": 137,
   "metadata": {
    "collapsed": true
   },
   "outputs": [],
   "source": [
    "X, y = make_moons(200, noise=0.2)"
   ]
  },
  {
   "cell_type": "code",
   "execution_count": 138,
   "metadata": {
    "collapsed": false
   },
   "outputs": [
    {
     "data": {
      "image/png": "[encoded data removed]",
      "text/plain": [
       "<matplotlib.figure.Figure at 0x10fd860b8>"
      ]
     },
     "metadata": {},
     "output_type": "display_data"
    }
   ],
   "source": [
    "plt.scatter(X[:,0],X[:,1],c=y, cmap=plt.cm.Spectral)\n",
    "# Marker size is scaled by `s` and marker color is mapped to `c`\n",
    "plt.show()"
   ]
  },
  {
   "cell_type": "code",
   "execution_count": 142,
   "metadata": {
    "collapsed": false
   },
   "outputs": [],
   "source": [
    "# 定义一个函数用来画我们分类结果的决策边界（也就是分界线）\n",
    "\n",
    "def plot_decision_boundary(pred_func):\n",
    "    x_min, x_max = X[:, 0].min() - .5, X[:, 0].max() + .5\n",
    "    y_min, y_max = X[:, 1].min() - .5, X[:, 1].max() + .5\n",
    "    h=0.01\n",
    "    \n",
    "    xx, yy = np.meshgrid(np.arange(x_min, x_max, h), np.arange(y_min, y_max, h))\n",
    "    \n",
    "    # 用预测函数预测一下\n",
    "    Z = pred_func(np.c_[xx.ravel(), yy.ravel()])\n",
    "    Z = Z.reshape(xx.shape)\n",
    "    \n",
    "    #然后画图\n",
    "    plt.contourf(xx, yy, Z, cmap=plt.cm.Spectral)\n",
    "    plt.scatter(X[:,0],X[:,1], c=y, cmap=plt.cm.Spectral)"
   ]
  },
  {
   "cell_type": "code",
   "execution_count": 146,
   "metadata": {
    "collapsed": true
   },
   "outputs": [
    {
     "data": {
      "text/plain": [
       "LogisticRegressionCV(Cs=10, class_weight=None, cv=None, dual=False,\n",
       "           fit_intercept=True, intercept_scaling=1.0, max_iter=100,\n",
       "           multi_class='ovr', n_jobs=1, penalty='l2', random_state=None,\n",
       "           refit=True, scoring=None, solver='lbfgs', tol=0.0001, verbose=0)"
      ]
     },
     "execution_count": 146,
     "metadata": {},
     "output_type": "execute_result"
    }
   ],
   "source": [
    "from sklearn.linear_model import LogisticRegressionCV\n",
    "clf = LogisticRegressionCV()\n",
    "clf.fit(X, y)"
   ]
  },
  {
   "cell_type": "code",
   "execution_count": 149,
   "metadata": {
    "collapsed": false
   },
   "outputs": [
    {
     "data": {
      "image/png": "[encoded data removed]",
      "text/plain": [
       "<matplotlib.figure.Figure at 0x1106d8438>"
      ]
     },
     "metadata": {},
     "output_type": "display_data"
    }
   ],
   "source": [
    "plot_decision_boundary(lambda x:clf.predict(x))"
   ]
  },
  {
   "cell_type": "code",
   "execution_count": null,
   "metadata": {
    "collapsed": true
   },
   "outputs": [],
   "source": []
  },
  {
   "cell_type": "code",
   "execution_count": null,
   "metadata": {
    "collapsed": true
   },
   "outputs": [],
   "source": []
  },
  {
   "cell_type": "code",
   "execution_count": null,
   "metadata": {
    "collapsed": true
   },
   "outputs": [],
   "source": []
  },
  {
   "cell_type": "code",
   "execution_count": null,
   "metadata": {
    "collapsed": true
   },
   "outputs": [],
   "source": []
  },
  {
   "cell_type": "code",
   "execution_count": null,
   "metadata": {
    "collapsed": true
   },
   "outputs": [],
   "source": []
  },
  {
   "cell_type": "code",
   "execution_count": null,
   "metadata": {
    "collapsed": true
   },
   "outputs": [],
   "source": []
  }
 ],
 "metadata": {
  "kernelspec": {
   "display_name": "Python 3",
   "language": "python",
   "name": "python3"
  },
  "language_info": {
   "codemirror_mode": {
    "name": "ipython",
    "version": 3
   },
   "file_extension": ".py",
   "mimetype": "text/x-python",
   "name": "python",
   "nbconvert_exporter": "python",
   "pygments_lexer": "ipython3",
   "version": "3.6.0"
  }
 },
 "nbformat": 4,
 "nbformat_minor": 2
}
